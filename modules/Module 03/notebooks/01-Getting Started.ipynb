{
 "cells": [
  {
   "cell_type": "markdown",
   "metadata": {},
   "source": [
    "# Getting Started\n",
    "Use the following import convention\n",
    "```python\n",
    "import numpy as np\n",
    "```\n",
    "\n",
    "Once NumPy is installed, import it in your applications by adding the `import` keyword. Now NumPy is imported and ready to use."
   ]
  },
  {
   "cell_type": "markdown",
   "metadata": {
    "tags": []
   },
   "source": [
    "## Checking NumPy Version"
   ]
  },
  {
   "cell_type": "code",
   "execution_count": null,
   "metadata": {
    "tags": []
   },
   "outputs": [],
   "source": [
    "import numpy as np\n",
    "np.__version__"
   ]
  },
  {
   "cell_type": "markdown",
   "metadata": {},
   "source": [
    "## Calculation\n",
    "- Element wise sum is not possible in Python list. But numpy can do that it is an advantage of numpy array\n"
   ]
  },
  {
   "cell_type": "code",
   "execution_count": null,
   "metadata": {},
   "outputs": [],
   "source": [
    "# add 2 lists \n",
    "L1 = [1, 2, 3]\n",
    "L2 = [4, 5, 6]\n",
    "print(L1+L2)"
   ]
  },
  {
   "cell_type": "markdown",
   "metadata": {},
   "source": [
    "The provided Python code includes two list variables and a print statement to output their concatenated result:\n",
    "\n",
    "- **List Initialization:**\n",
    "  - `L1 = [1, 2, 3]` initializes the first list with three elements: 1, 2, and 3.\n",
    "  - `L2 = [4, 5, 6]` initializes the second list with three elements: 4, 5, and 6.\n",
    "\n",
    "- **List Concatenation:**\n",
    "  - `print(L1+L2)` uses the `+` operator to concatenate `L1` and `L2`. In Python, the `+` operator when used with lists, appends the elements of the second list (`L2`) directly to the end of the first list (`L1`).\n",
    "\n",
    "- **Output:**\n",
    "  - The output of the code will be `[1, 2, 3, 4, 5, 6]`, which is a new list containing the elements of both `L1` and `L2` in the order they appear.\n"
   ]
  },
  {
   "cell_type": "code",
   "execution_count": null,
   "metadata": {},
   "outputs": [],
   "source": [
    "# element wise sum using numpy array \n",
    "import numpy as np \n",
    "A1 = np.array([1, 2, 3])\n",
    "A2 = np.array([4, 5, 6])\n",
    "print(A1+A2)"
   ]
  },
  {
   "cell_type": "markdown",
   "metadata": {},
   "source": [
    "This Python code demonstrates element-wise addition of two arrays using NumPy, a powerful library for numerical computing:\n",
    "\n",
    "- **Importing NumPy:**\n",
    "  - `import numpy as np` imports the NumPy library and aliases it as `np`. This alias allows for a shorter prefix when calling NumPy functions.\n",
    "\n",
    "- **Array Initialization:**\n",
    "  - `A1 = np.array([1, 2, 3])` creates a NumPy array `A1` with elements 1, 2, and 3.\n",
    "  - `A2 = np.array([4, 5, 6])` creates another NumPy array `A2` with elements 4, 5, and 6.\n",
    "\n",
    "- **Element-wise Array Addition:**\n",
    "  - `print(A1 + A2)` performs element-wise addition of `A1` and `A2`. Each corresponding pair of elements from the two arrays is added together:\n",
    "    - Element 1 of `A1` (1) is added to element 1 of `A2` (4), resulting in 5.\n",
    "    - Element 2 of `A1` (2) is added to element 2 of `A2` (5), resulting in 7.\n",
    "    - Element 3 of `A1` (3) is added to element 3 of `A2` (6), resulting in 9.\n",
    "\n",
    "- **Output:**\n",
    "  - The output of the code will be `[5 7 9]`, which is a new NumPy array containing the sums of the corresponding elements of `A1` and `A2`.\n"
   ]
  },
  {
   "cell_type": "markdown",
   "metadata": {},
   "source": [
    "## Less Memory"
   ]
  },
  {
   "cell_type": "code",
   "execution_count": null,
   "metadata": {},
   "outputs": [],
   "source": [
    "import time\n",
    "import sys\n",
    "S = range(1000)\n",
    "print(\"Python List: \", sys.getsizeof(5)*len(S))\n",
    " \n",
    "D = np.arange(1000)\n",
    "print(\"Numpy Array: \", D.size*D.itemsize)"
   ]
  },
  {
   "cell_type": "markdown",
   "metadata": {},
   "source": [
    "\r\n",
    "This Pythocode of chunkpt illustrates the memory usage differences between a standard Python list and a NumPy array:\r\n",
    "\r\n",
    "- **Imports:**\r\n",
    "  - `import time` imports the `time` module, which is actually unused in the script.\r\n",
    "  - `import sys` imports the `sys` module, used to access system-specific parameters and functions.\r\n",
    "\r\n",
    "- **Python List Memory Calculation:**\r\n",
    "  - `S = range(1000)` creates a range object containing 1000 elements (from 0 to 999). Note that in Python 3, `range()` does not create a list but a range object, which is more memory efficient.\r\n",
    "  - `print(\"Python List: \", sys.getsizeof(5)*len(S))` calculates the estimated size of a hypothetical list where each element is an integer. `sys.getsizeof(5)` gives the memory size of an integer, which is then multiplied by the number of elements (`len(S)`). However, this calculation does not accurately represent the memory usage of the range object itself but rather a hypothetical list where each entry is similar to the integer 5.\r\n",
    "\r\n",
    "- **NumPy Array Memory Calculation:**\r\n",
    "  - `D = np.arange(1000)` creates a NumPy array with 1000 elements ranging from 0 to 999.\r\n",
    "  - `print(\"Numpy Array: \", D.size * D.itemsize)` correctly calculates the total memory used by the NumPy array. `D.size` returns the number of elements in the array, and `D.itemsize` returns the memory size of each array element in bytes.\r\n",
    "\r\n",
    "- **Output:**\r\n",
    "  - The script prints the calculated memory usage for both the hypothetical list and the NumPy array, highlighting the efficiency of NumPy in terms of memory usage for large arrays.\r\n",
    "\r\n"
   ]
  },
  {
   "cell_type": "markdown",
   "metadata": {},
   "source": [
    "## Faster"
   ]
  },
  {
   "cell_type": "code",
   "execution_count": null,
   "metadata": {},
   "outputs": [],
   "source": [
    "import time\n",
    "import sys\n",
    " \n",
    "SIZE = 1000000\n",
    " \n",
    "L1 = range(SIZE)\n",
    "L2 = range(SIZE)\n",
    "A1 = np.arange(SIZE)\n",
    "A2 = np.arange(SIZE)\n",
    " \n",
    "start= time.time()\n",
    "result=[(x,y) for x,y in zip(L1,L2)]\n",
    "# time in ms \n",
    "print((time.time()-start)*1000)\n",
    " \n",
    "start = time.time()\n",
    "result = A1+A2\n",
    "# time in ms \n",
    "print((time.time()-start)*1000)"
   ]
  },
  {
   "cell_type": "markdown",
   "metadata": {},
   "source": [
    "This script measures the execution time required for element-wise operations on large datasets using both Python lists and NumPy arrays:\n",
    "\n",
    "- **Setup:**\n",
    "  - `import time` is used to access the `time` module for timing operations.\n",
    "  - `import sys` is imported but not used in the script.\n",
    "  - `SIZE = 1000000` sets the size of the data structures to 1 million elements.\n",
    "\n",
    "- **Initialization of Data Structures:**\n",
    "  - `L1 = range(SIZE)` and `L2 = range(SIZE)` create two range objects each containing 1 million elements. These are more memory-efficient than lists but behave similarly when iterated.\n",
    "  - `A1 = np.arange(SIZE)` and `A2 = np.arange(SIZE)` create two NumPy arrays each with 1 million sequential integers from 0 to 999,999.\n",
    "\n",
    "- **Python List Operation:**\n",
    "  - `start= time.time()` captures the start time.\n",
    "  - `result=[(x, y) for x, y in zip(L1, L2)]` performs a zip operation on `L1` and `L2`, iterating through each and creating a list of tuples where each tuple contains corresponding elements from `L1` and `L2`.\n",
    "  - `print((time.time()-start)*1000)` calculates the elapsed time in milliseconds and prints it.\n",
    "\n",
    "- **NumPy Array Operation:**\n",
    "  - `start = time.time()` captures the start time for the NumPy operation.\n",
    "  - `result = A1 + A2` performs an element-wise addition of `A1` and `A2`, leveraging NumPy's optimized routines for array operations.\n",
    "  - `print((time.time()-start)*1000)` calculates the elapsed time in milliseconds for the NumPy operation and prints it.\n",
    "\n",
    "- **Output:**\n",
    "  - The script prints the execution time for both operations, typically showing a faster computation time for NumPy arrays due to optimized internal handling of numeric data and operations.\n"
   ]
  },
  {
   "cell_type": "code",
   "execution_count": null,
   "metadata": {},
   "outputs": [],
   "source": [
    "%timeit sum(range(1000))"
   ]
  },
  {
   "cell_type": "markdown",
   "metadata": {
    "jp-MarkdownHeadingCollapsed": true
   },
   "source": [
    "The code snippet `%timeit sum(range(1000))` is used to measure the execution time of the `sum(range(1000))` expression.\n",
    "\n",
    "__Breakdown__\n",
    "- **`%timeit`**: An IPython magic command for timing execution of a single-line statement.\n",
    "- **`range(1000)`**: Generates numbers from 0 to 999.\n",
    "- **`sum(range(1000))`**: Sums the numbers from 0 to 999.\n",
    "\n",
    "__Execution__\n",
    "- Runs the expression multiple times to provide an average execution time and the best time observed.\n",
    "\n",
    "__Example Output__\n",
    "- `10000 loops, best of 3: 27.3 µs per loop`\n",
    "  - Executed 10,000 times.\n",
    "  - Best time of three sets of runs.\n",
    "  - Best observed time: 27.3 microseconds per loop."
   ]
  },
  {
   "cell_type": "code",
   "execution_count": null,
   "metadata": {},
   "outputs": [],
   "source": [
    "%timeit np.sum(np.arange(1000))"
   ]
  },
  {
   "cell_type": "markdown",
   "metadata": {},
   "source": [
    "The code snippet `%timeit np.sum(np.arange(1000))` is used to measure the execution time of the `np.sum(np.arange(1000))` expression, leveraging the NumPy library for efficient numerical operations.\n",
    "\n",
    "\n",
    "__Breakdown__\n",
    "\n",
    "- **`%timeit`**: An IPython magic command for timing the execution of a single-line statement.\n",
    "- **`np.arange(1000)`**: Generates a NumPy array of integers from 0 to 999.\n",
    "- **`np.sum(np.arange(1000))`**: Sums the numbers from 0 to 999 using NumPy's optimized summation function.\n",
    "\n",
    "__Execution__\n",
    "\n",
    "- Runs the expression multiple times to provide an average execution time and the best time observed.\n",
    "\n",
    "__Example Output__\n",
    "\n",
    "- `100000 loops, best of 3: 8.6 µs per loop`\n",
    "  - Executed 100,000 times.\n",
    "  - Best time of three sets of runs.\n",
    "  - Best observed time: 8.6 microseconds per loop.\n",
    "\n",
    "__Advantages of Using NumPy__\n",
    "\n",
    "- **Performance**: NumPy's operations are typically faster than standard Python due to optimized C code.\n",
    "- **Efficiency**: Suitable for large-scale numerical computations."
   ]
  },
  {
   "cell_type": "markdown",
   "metadata": {},
   "source": [
    "## Creating Arrays \n",
    "- **Array:** Ordered collection of elements of basic data types of given length.\n",
    "- **Syntax**\n",
    "```python \n",
    "np.array(object)\n",
    "```"
   ]
  },
  {
   "cell_type": "code",
   "execution_count": null,
   "metadata": {},
   "outputs": [],
   "source": [
    "# import numpy \n",
    "import numpy as np "
   ]
  },
  {
   "cell_type": "markdown",
   "metadata": {},
   "source": [
    "To use NumPy functions and features, you need to import the NumPy library into your Python environment. This is done using the `import` statement.\n",
    "\n",
    "```python\n",
    "import numpy as np \n",
    "```"
   ]
  },
  {
   "cell_type": "code",
   "execution_count": null,
   "metadata": {},
   "outputs": [],
   "source": [
    "# Creating 1D array\n",
    "A = np.array([1, 2, 3])\n",
    "A "
   ]
  },
  {
   "cell_type": "code",
   "execution_count": null,
   "metadata": {},
   "outputs": [],
   "source": [
    "print(A)"
   ]
  },
  {
   "cell_type": "code",
   "execution_count": null,
   "metadata": {},
   "outputs": [],
   "source": [
    "L = [1, 2, 3]"
   ]
  },
  {
   "cell_type": "code",
   "execution_count": null,
   "metadata": {},
   "outputs": [],
   "source": [
    "type(L)"
   ]
  },
  {
   "cell_type": "code",
   "execution_count": null,
   "metadata": {},
   "outputs": [],
   "source": [
    "# type \n",
    "print(type(A))"
   ]
  },
  {
   "cell_type": "markdown",
   "metadata": {},
   "source": [
    "## Array with Categorical Entities \n",
    "- Numpy can handle different categorical entities. \n",
    "- All elements are coerced into same data type "
   ]
  },
  {
   "cell_type": "code",
   "execution_count": null,
   "metadata": {},
   "outputs": [],
   "source": [
    "# create an array with categorical entities. \n",
    "X = np.array([12, 13, \"Adib\"])\n",
    "print(X)"
   ]
  },
  {
   "cell_type": "code",
   "execution_count": null,
   "metadata": {},
   "outputs": [],
   "source": [
    "# type \n",
    "print(type(X))"
   ]
  },
  {
   "cell_type": "code",
   "execution_count": null,
   "metadata": {},
   "outputs": [],
   "source": [
    "np.array([[1, 2, 3], [4, 5, 6]])"
   ]
  },
  {
   "cell_type": "code",
   "execution_count": null,
   "metadata": {},
   "outputs": [],
   "source": [
    "# Creating 2D array\n",
    "A2 = np.array([[3, 4, 5], [7, 8, 9]])\n",
    "print(A2) "
   ]
  },
  {
   "cell_type": "code",
   "execution_count": null,
   "metadata": {},
   "outputs": [],
   "source": [
    "tup = (4, 5, 6)\n",
    "type(tup)"
   ]
  },
  {
   "cell_type": "code",
   "execution_count": null,
   "metadata": {},
   "outputs": [],
   "source": [
    "# Creating 3D array\n",
    "A3 = np.array([[(1, 2, 3), (4, 5, 6)], [(7, 8, 9), (10, 11, 12)]])\n",
    "print(A3) "
   ]
  },
  {
   "cell_type": "markdown",
   "metadata": {},
   "source": [
    "## Inspecting array properties"
   ]
  },
  {
   "cell_type": "markdown",
   "metadata": {},
   "source": [
    "### Size \n",
    "- Returns number of elements in array\n",
    "- **Syntax:** `array.size`"
   ]
  },
  {
   "cell_type": "code",
   "execution_count": null,
   "metadata": {},
   "outputs": [],
   "source": [
    "L = [1, 2, 3, 4, 5]\n",
    "len(L)"
   ]
  },
  {
   "cell_type": "code",
   "execution_count": null,
   "metadata": {},
   "outputs": [],
   "source": [
    "type(L[0])"
   ]
  },
  {
   "cell_type": "code",
   "execution_count": null,
   "metadata": {},
   "outputs": [],
   "source": [
    "type(float(L[0]))"
   ]
  },
  {
   "cell_type": "code",
   "execution_count": null,
   "metadata": {},
   "outputs": [],
   "source": [
    "A1 = np.array([1, 2, 3, 4, 5])\n",
    "# size \n",
    "A1.size"
   ]
  },
  {
   "cell_type": "markdown",
   "metadata": {},
   "source": [
    "### Shape\n",
    "- Returns dimensions of array (rows,columns)\n",
    "- **Syntax:** `array.shape`"
   ]
  },
  {
   "cell_type": "code",
   "execution_count": null,
   "metadata": {},
   "outputs": [],
   "source": [
    "A2 = np.array([[4, 5, 6], [7, 8, 9]])\n",
    "# shape \n",
    "A2.shape "
   ]
  },
  {
   "cell_type": "code",
   "execution_count": null,
   "metadata": {},
   "outputs": [],
   "source": [
    "# get row \n",
    "A2.shape[0]"
   ]
  },
  {
   "cell_type": "code",
   "execution_count": null,
   "metadata": {},
   "outputs": [],
   "source": [
    "# get column\n",
    "A2.shape[1]"
   ]
  },
  {
   "cell_type": "markdown",
   "metadata": {},
   "source": [
    "### Data Type\n",
    "- Returns type of elements in array\n",
    "- **Syntax:** `array.dtype`"
   ]
  },
  {
   "cell_type": "code",
   "execution_count": null,
   "metadata": {},
   "outputs": [],
   "source": [
    "A3 = np.array([11, 12, 33, 44])\n",
    "# dtypes \n",
    "A3.dtype"
   ]
  },
  {
   "cell_type": "markdown",
   "metadata": {},
   "source": [
    "## Type Conversion \n",
    " - Convert array elements to type dtype\n",
    " - **Syntax:** `array.astype(dtype)`\n",
    "     - dtype - data type "
   ]
  },
  {
   "cell_type": "code",
   "execution_count": null,
   "metadata": {},
   "outputs": [],
   "source": [
    "A4 = np.array([10, 11, 12, 13])\n",
    "# convert \n",
    "A4.dtype"
   ]
  },
  {
   "cell_type": "code",
   "execution_count": null,
   "metadata": {},
   "outputs": [],
   "source": [
    "A5 = A4.astype(np.float16)"
   ]
  },
  {
   "cell_type": "code",
   "execution_count": null,
   "metadata": {},
   "outputs": [],
   "source": [
    "A5.dtype"
   ]
  },
  {
   "cell_type": "markdown",
   "metadata": {},
   "source": [
    "## Numpy array to Python List \n",
    "- Returns the Python list \n",
    "- **Syntax:** `array.tolist()`"
   ]
  },
  {
   "cell_type": "code",
   "execution_count": null,
   "metadata": {},
   "outputs": [],
   "source": [
    "A5 = np.array([1, 2, 3, 4, 5])\n",
    "# array to list \n",
    "l = A5.tolist() "
   ]
  },
  {
   "cell_type": "code",
   "execution_count": null,
   "metadata": {},
   "outputs": [],
   "source": [
    "type(A5)"
   ]
  },
  {
   "cell_type": "code",
   "execution_count": null,
   "metadata": {},
   "outputs": [],
   "source": [
    "type(l)"
   ]
  },
  {
   "cell_type": "markdown",
   "metadata": {},
   "source": [
    "## Get Help: View documentation\n",
    "- Returns a documentation\n",
    "- **Syntax:** `np.info(np.function)`\n",
    "    - function - linspace, logspace, eye, ones, zeros etc."
   ]
  },
  {
   "cell_type": "code",
   "execution_count": null,
   "metadata": {},
   "outputs": [],
   "source": [
    "# for ducumentation\n",
    "np.info(np.log10)"
   ]
  }
 ],
 "metadata": {
  "kernelspec": {
   "display_name": "Python 3 (ipykernel)",
   "language": "python",
   "name": "python3"
  },
  "language_info": {
   "codemirror_mode": {
    "name": "ipython",
    "version": 3
   },
   "file_extension": ".py",
   "mimetype": "text/x-python",
   "name": "python",
   "nbconvert_exporter": "python",
   "pygments_lexer": "ipython3",
   "version": "3.11.7"
  },
  "latex_envs": {
   "LaTeX_envs_menu_present": true,
   "autoclose": false,
   "autocomplete": true,
   "bibliofile": "biblio.bib",
   "cite_by": "apalike",
   "current_citInitial": 1,
   "eqLabelWithNumbers": true,
   "eqNumInitial": 1,
   "hotkeys": {
    "equation": "Ctrl-E",
    "itemize": "Ctrl-I"
   },
   "labels_anchors": false,
   "latex_user_defs": false,
   "report_style_numbering": false,
   "user_envs_cfg": false
  },
  "toc": {
   "base_numbering": 1,
   "nav_menu": {},
   "number_sections": true,
   "sideBar": true,
   "skip_h1_title": false,
   "title_cell": "Table of Contents",
   "title_sidebar": "Contents",
   "toc_cell": true,
   "toc_position": {},
   "toc_section_display": true,
   "toc_window_display": false
  }
 },
 "nbformat": 4,
 "nbformat_minor": 4
}
