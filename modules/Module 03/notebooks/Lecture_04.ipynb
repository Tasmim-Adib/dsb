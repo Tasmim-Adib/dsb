{
 "cells": [
  {
   "cell_type": "markdown",
   "id": "1d4b2f63-a5f4-4322-8002-9ec449fe7642",
   "metadata": {},
   "source": [
    "# Module 03 - Scientific Computing with Numpy\n",
    "\n",
    "---\n",
    "\n",
    "#### <a href=\"linkedin.com/in/tasmim-rahman-adib-403074221\">Tasmim Rahman Adib</a>\n",
    "![numpylogo](../img/numpy.jpeg)\n",
    "\n",
    "# Lecture 3.4 - Vectors and Matrics\n",
    "## Agenda\n",
    "### Vector\n",
    "- Addition\n",
    "- Subtraction\n",
    "- Multiplication\n",
    "- Division\n",
    "### Matrix\n",
    "- Modification\n",
    "- Properties\n",
    "- Operations"
   ]
  },
  {
   "cell_type": "markdown",
   "id": "a0fd001b-0351-4d1e-a283-691d915a373b",
   "metadata": {
    "jp-MarkdownHeadingCollapsed": true
   },
   "source": [
    "## 3.4.1 Vectors \n",
    "- A vector has magnitude (size) and direction\n",
    "- Use NumPy to create a one-dimensional array \n",
    "- Vector can be created as row or column using NumPy "
   ]
  },
  {
   "cell_type": "code",
   "execution_count": 1,
   "id": "61b976a9-691e-418d-9fd2-942e9c5c454d",
   "metadata": {},
   "outputs": [],
   "source": [
    "# Load NumPy Library \n",
    "import numpy as np "
   ]
  },
  {
   "cell_type": "code",
   "execution_count": 2,
   "id": "b0a48f09-86c9-469f-9feb-37371431b1c7",
   "metadata": {},
   "outputs": [
    {
     "name": "stdout",
     "output_type": "stream",
     "text": [
      "[1 2 3]\n"
     ]
    }
   ],
   "source": [
    "# Create a vector as row \n",
    "vector_row = np.array([1, 2, 3])\n",
    "print(vector_row)"
   ]
  },
  {
   "cell_type": "code",
   "execution_count": 3,
   "id": "5a1a3e66-6c1e-4b5f-a93f-1eb1bfe1c879",
   "metadata": {},
   "outputs": [
    {
     "data": {
      "text/plain": [
       "numpy.ndarray"
      ]
     },
     "execution_count": 3,
     "metadata": {},
     "output_type": "execute_result"
    }
   ],
   "source": [
    "# check type \n",
    "type(vector_row)"
   ]
  },
  {
   "cell_type": "code",
   "execution_count": 4,
   "id": "558602bd-0b24-4562-bdcb-40e70be84997",
   "metadata": {},
   "outputs": [
    {
     "name": "stdout",
     "output_type": "stream",
     "text": [
      "[[1]\n",
      " [2]\n",
      " [3]]\n"
     ]
    }
   ],
   "source": [
    "# Create a vector as column \n",
    "vector_column = np.array([[1], [2], [3]]) \n",
    "print(vector_column) "
   ]
  },
  {
   "cell_type": "code",
   "execution_count": 5,
   "id": "539c042c-5759-4ea4-b7a9-6d681aac05ce",
   "metadata": {},
   "outputs": [
    {
     "data": {
      "text/plain": [
       "numpy.ndarray"
      ]
     },
     "execution_count": 5,
     "metadata": {},
     "output_type": "execute_result"
    }
   ],
   "source": [
    "# check type \n",
    "type(vector_column)"
   ]
  },
  {
   "cell_type": "markdown",
   "id": "5d4ed276-87d4-47fb-937f-53b02f4379f1",
   "metadata": {},
   "source": [
    "### 3.4.1.1 Addition"
   ]
  },
  {
   "cell_type": "code",
   "execution_count": 6,
   "id": "3f142e97-7bb5-4762-8125-9880e9104d19",
   "metadata": {},
   "outputs": [
    {
     "name": "stdout",
     "output_type": "stream",
     "text": [
      "vector_a:  [1 2 3]\n",
      "vector_b: [1 2 3]\n",
      "vector_c: [2 4 6]\n"
     ]
    }
   ],
   "source": [
    "# addition vectors\n",
    "a = np.array([1, 2, 3])\n",
    "print(\"vector_a: \", a)\n",
    "b = np.array([1, 2, 3])\n",
    "print(\"vector_b:\", b)\n",
    "# addition of a and b \n",
    "c = a + b\n",
    "print(\"vector_c:\", c)"
   ]
  },
  {
   "cell_type": "markdown",
   "id": "1d4e4dc4-3814-40bf-b2dd-d98c96904664",
   "metadata": {},
   "source": [
    "### 3.4.1.2 Subtraction"
   ]
  },
  {
   "cell_type": "code",
   "execution_count": 7,
   "id": "841ff397-4770-4114-8501-655463addc8a",
   "metadata": {},
   "outputs": [
    {
     "name": "stdout",
     "output_type": "stream",
     "text": [
      "vector_a:  [1 2 3]\n",
      "vector_b: [1 2 3]\n",
      "vector_c: [0 0 0]\n"
     ]
    }
   ],
   "source": [
    "# subtraction vectors\n",
    "a = np.array([1, 2, 3])\n",
    "print(\"vector_a: \", a)\n",
    "b = np.array([1, 2, 3])\n",
    "print(\"vector_b:\", b)\n",
    "# addition of a and b \n",
    "c = a - b\n",
    "print(\"vector_c:\", c)"
   ]
  },
  {
   "cell_type": "markdown",
   "id": "559f9e61-bb10-45de-b1d1-5d051084a5e2",
   "metadata": {},
   "source": [
    "### 3.4.1.3 Multiplication"
   ]
  },
  {
   "cell_type": "code",
   "execution_count": 8,
   "id": "2efa15d3-1fa6-4dd6-9e4f-3d61df1c4c18",
   "metadata": {},
   "outputs": [
    {
     "name": "stdout",
     "output_type": "stream",
     "text": [
      "vector_a:  [1 2 3]\n",
      "vector_b: [1 2 3]\n",
      "vector_c: [1 4 9]\n"
     ]
    }
   ],
   "source": [
    "# multiply vectors\n",
    "a = np.array([1, 2, 3])\n",
    "print(\"vector_a: \", a)\n",
    "b = np.array([1, 2, 3])\n",
    "print(\"vector_b:\", b)\n",
    "# addition of a and b \n",
    "c = a * b\n",
    "print(\"vector_c:\", c)"
   ]
  },
  {
   "cell_type": "markdown",
   "id": "bed82126-2660-4117-92f1-77f1becd5d60",
   "metadata": {},
   "source": [
    "### 3.4.1.4 Division"
   ]
  },
  {
   "cell_type": "code",
   "execution_count": 9,
   "id": "957bc520-820b-4a06-92fd-10bc2b9fff68",
   "metadata": {},
   "outputs": [
    {
     "name": "stdout",
     "output_type": "stream",
     "text": [
      "vector_a:  [1 2 3]\n",
      "vector_b: [1 2 3]\n",
      "vector_c: [1. 1. 1.]\n"
     ]
    }
   ],
   "source": [
    "# divition vectors\n",
    "a = np.array([1, 2, 3])\n",
    "print(\"vector_a: \", a)\n",
    "b = np.array([1, 2, 3])\n",
    "print(\"vector_b:\", b)\n",
    "# addition of a and b \n",
    "c = a / b\n",
    "print(\"vector_c:\", c)"
   ]
  },
  {
   "cell_type": "markdown",
   "id": "d37405ab-1397-4ce0-8759-c04acf6d82c2",
   "metadata": {},
   "source": [
    "## 3.4.2 Matrix \n",
    "- In mathematics, a matrix is a rectangular array of numbers, symbols, or expressions, arranged in rows and columns\n",
    "- Rows run horizontally and columns run vertically\n",
    "- Use NumPy to create a two-dimensional array\n",
    "\n",
    "![matrix](../img/Matris.png)\n",
    "\n",
    "## Matrix Order\n",
    "- You can think of an $r x c$ matrix as a set of r row vectors, each having c elements; or you can think of it as a set of c column vectors, each having r elements.\n",
    "- The rank of a matrix is defined as (a) the maximum number of linearly independent column vectors in the matrix or (b) the maximum number of linearly independent row vectors in the matrix. Both definitions are equivalent.\n",
    "- If r is less than c, then the maximum rank of the matrix is r.\n",
    "- If r is greater than c, then the maximum rank of the matrix is c.\n"
   ]
  },
  {
   "cell_type": "markdown",
   "id": "2d19a5ac-caa1-44a4-b871-9e3ae0c6170a",
   "metadata": {},
   "source": [
    "## 3.4.2.1 Modification\n",
    "### Create a  matrix using `matrix()`\n",
    "- Returns a matrix from an array type object ir string of data. \n",
    "- **Syntax:** `np.matrix(data)`"
   ]
  },
  {
   "cell_type": "code",
   "execution_count": 10,
   "id": "5f6e28bb-f8c5-4765-9ea5-8056afaaacfd",
   "metadata": {},
   "outputs": [
    {
     "name": "stdout",
     "output_type": "stream",
     "text": [
      "[[ 1  2  3  4]\n",
      " [ 4  5  6  7]\n",
      " [ 7  8  9 10]]\n"
     ]
    }
   ],
   "source": [
    "mat1 = np.matrix(\"1, 2, 3, 4; 4, 5, 6, 7; 7, 8, 9, 10\")\n",
    "print(mat1)"
   ]
  },
  {
   "cell_type": "markdown",
   "id": "ce356a93-4b2a-4ee6-806c-22e501a912a1",
   "metadata": {},
   "source": [
    "### Create a matrix using `array()`\n",
    "- Returns a matrix \n",
    "- **Syntax:** `np.array(object)`"
   ]
  },
  {
   "cell_type": "code",
   "execution_count": 11,
   "id": "45c3dc4c-ba6d-4116-ba7a-f4b08f75d350",
   "metadata": {},
   "outputs": [
    {
     "name": "stdout",
     "output_type": "stream",
     "text": [
      "[[1 2]\n",
      " [3 4]\n",
      " [4 6]]\n"
     ]
    }
   ],
   "source": [
    "mat2 = np.array([[1, 2], [3,4], [4, 6]])\n",
    "print(mat2) "
   ]
  },
  {
   "cell_type": "markdown",
   "id": "9306b464-91c9-4a37-ba64-55de845dec25",
   "metadata": {},
   "source": [
    "### Modifying matrix using `insert()`\n",
    "- Adds values at a given position and axis in a matrix \n",
    "- **Syntax:** `np.insert(matrix, object, values, axis)`\n",
    "    - matrix - input matrix \n",
    "    - object - index position \n",
    "    - values - matrix of values to be inserted "
   ]
  },
  {
   "cell_type": "code",
   "execution_count": 20,
   "id": "cba09496-3df8-4ce3-8f07-ca3defd8dd8b",
   "metadata": {},
   "outputs": [
    {
     "name": "stdout",
     "output_type": "stream",
     "text": [
      "[[ 1  2  3  4]\n",
      " [ 4  5  6  7]\n",
      " [ 7  8  9 10]]\n"
     ]
    }
   ],
   "source": [
    "mat5 = np.matrix(\"1, 2, 3, 4; 4, 5, 6, 7; 7, 8, 9, 10\")\n",
    "print(mat5)"
   ]
  },
  {
   "cell_type": "code",
   "execution_count": 21,
   "id": "14832d1e-4a93-4e6a-810e-0b1469785d13",
   "metadata": {},
   "outputs": [
    {
     "name": "stdout",
     "output_type": "stream",
     "text": [
      "[[1 1 1]]\n"
     ]
    }
   ],
   "source": [
    "# adding a new matrix `col_new` as a new column to mat5\n",
    "col_new = np.matrix(\"1, 1, 1\")\n",
    "print(col_new)"
   ]
  },
  {
   "cell_type": "code",
   "execution_count": 22,
   "id": "668a236f-15af-488f-8e85-5c4b61048f7c",
   "metadata": {},
   "outputs": [
    {
     "name": "stdout",
     "output_type": "stream",
     "text": [
      "[[ 1  2  1  3  4]\n",
      " [ 4  5  1  6  7]\n",
      " [ 7  8  1  9 10]]\n"
     ]
    }
   ],
   "source": [
    "# insert at column \n",
    "mat6 = np.insert(mat5, 2, col_new, axis=1)\n",
    "print(mat6) "
   ]
  },
  {
   "cell_type": "code",
   "execution_count": 23,
   "id": "6809671e-6216-40c3-b617-05624fb2efc0",
   "metadata": {},
   "outputs": [
    {
     "name": "stdout",
     "output_type": "stream",
     "text": [
      "[[0 0 0 0]]\n"
     ]
    }
   ],
   "source": [
    "# adding a new matrix `row_new` as a new row to mat5\n",
    "row_new = np.matrix(\"0, 0, 0, 0\")\n",
    "print(row_new)"
   ]
  },
  {
   "cell_type": "code",
   "execution_count": 24,
   "id": "863c54cc-495c-4b46-aa63-362da7e352f4",
   "metadata": {},
   "outputs": [
    {
     "name": "stdout",
     "output_type": "stream",
     "text": [
      "[[ 0  0  0  0]\n",
      " [ 1  2  3  4]\n",
      " [ 4  5  6  7]\n",
      " [ 7  8  9 10]]\n"
     ]
    }
   ],
   "source": [
    "# insert at row \n",
    "mat7 = np.insert(mat5, 0, row_new, axis=0)\n",
    "print(mat7)"
   ]
  },
  {
   "cell_type": "markdown",
   "id": "d8d32972-bc64-49b1-b292-67a98b605160",
   "metadata": {},
   "source": [
    "### Modifying matrix using `index`\n",
    "- Elements of matrix can be modified using index number \n",
    "- **Syntax:**: `mat[row_index, col_index)`"
   ]
  },
  {
   "cell_type": "code",
   "execution_count": 25,
   "id": "83af1809-4980-4ee7-ae81-f9f06de80fc0",
   "metadata": {},
   "outputs": [
    {
     "name": "stdout",
     "output_type": "stream",
     "text": [
      "[[ 1  2  3  4  5]\n",
      " [ 5  6  7  8  9]\n",
      " [ 9 10 11 12 13]]\n"
     ]
    }
   ],
   "source": [
    "mat_a = np.matrix(\"1, 2, 3, 4, 5; 5, 6, 7, 8, 9; 9, 10, 11, 12, 13\")\n",
    "print(mat_a)"
   ]
  },
  {
   "cell_type": "code",
   "execution_count": 26,
   "id": "2aa892d3-e356-4df2-8154-88e082e197b4",
   "metadata": {},
   "outputs": [
    {
     "data": {
      "text/plain": [
       "matrix([[1, 2, 3, 4, 5]])"
      ]
     },
     "execution_count": 26,
     "metadata": {},
     "output_type": "execute_result"
    }
   ],
   "source": [
    "mat_a[0]"
   ]
  },
  {
   "cell_type": "code",
   "execution_count": 27,
   "id": "9b8bc93b-7b74-4a7f-b38b-5b25403c7641",
   "metadata": {},
   "outputs": [
    {
     "data": {
      "text/plain": [
       "matrix([[ 1,  0,  3,  4,  5],\n",
       "        [ 5,  6,  7,  8,  9],\n",
       "        [ 9, 10, 11, 12, 13]])"
      ]
     },
     "execution_count": 27,
     "metadata": {},
     "output_type": "execute_result"
    }
   ],
   "source": [
    "# change 6 with 0 \n",
    "mat_a[0, 1] = 0 \n",
    "mat_a"
   ]
  },
  {
   "cell_type": "code",
   "execution_count": 28,
   "id": "192f98d0-251c-477d-a373-8c85b9e9674f",
   "metadata": {},
   "outputs": [
    {
     "name": "stdout",
     "output_type": "stream",
     "text": [
      "[[ 1  0  3  4  5]\n",
      " [ 5  6  7  8  9]\n",
      " [ 9 10 11 12 13]]\n"
     ]
    }
   ],
   "source": [
    "# show mat_a \n",
    "print(mat_a)"
   ]
  },
  {
   "cell_type": "code",
   "execution_count": 29,
   "id": "7f124c67-ac89-48a1-bacc-d74921602e71",
   "metadata": {},
   "outputs": [
    {
     "data": {
      "text/plain": [
       "matrix([[5, 6, 7, 8, 9]])"
      ]
     },
     "execution_count": 29,
     "metadata": {},
     "output_type": "execute_result"
    }
   ],
   "source": [
    "# extract 2nd row \n",
    "mat_a[1, :]"
   ]
  },
  {
   "cell_type": "code",
   "execution_count": 30,
   "id": "2a146673-e2f9-4237-a85b-a3b1ac6037ae",
   "metadata": {},
   "outputs": [
    {
     "data": {
      "text/plain": [
       "matrix([[ 4],\n",
       "        [ 8],\n",
       "        [12]])"
      ]
     },
     "execution_count": 30,
     "metadata": {},
     "output_type": "execute_result"
    }
   ],
   "source": [
    "# extract 3rd column\n",
    "mat_a[:, 3]"
   ]
  },
  {
   "cell_type": "code",
   "execution_count": 31,
   "id": "8b5f44c0-4cc6-4bec-b596-5ec9cc252af9",
   "metadata": {},
   "outputs": [
    {
     "data": {
      "text/plain": [
       "np.int64(7)"
      ]
     },
     "execution_count": 31,
     "metadata": {},
     "output_type": "execute_result"
    }
   ],
   "source": [
    "# extract elements \n",
    "mat_a[1, 2]"
   ]
  },
  {
   "cell_type": "markdown",
   "id": "2386504b-fc49-4dc7-b1dd-f103d1a53e02",
   "metadata": {},
   "source": [
    "## 3.4.2.2 Matrix Properties "
   ]
  },
  {
   "cell_type": "markdown",
   "id": "72463b7b-7fb4-42a5-a780-a36ab8da24ad",
   "metadata": {},
   "source": [
    "## Shape\n",
    "- Returns number of rows and columns from a matrix \n",
    "- **Syntax:** `mat.shape`\n",
    "    - shape[0] - returns the number of rows \n",
    "    - shape[1] - returns the number of columns "
   ]
  },
  {
   "cell_type": "code",
   "execution_count": 12,
   "id": "2064fee5-5655-4bc0-b3cc-4e6990fbd1c1",
   "metadata": {},
   "outputs": [
    {
     "data": {
      "text/plain": [
       "matrix([[ 1,  2,  3,  4],\n",
       "        [ 4,  5,  6,  7],\n",
       "        [ 7,  8,  9, 10]])"
      ]
     },
     "execution_count": 12,
     "metadata": {},
     "output_type": "execute_result"
    }
   ],
   "source": [
    "mat3 = np.matrix(\"1, 2, 3, 4; 4, 5, 6, 7; 7, 8, 9, 10\")\n",
    "mat3 "
   ]
  },
  {
   "cell_type": "code",
   "execution_count": 13,
   "id": "7f89f851-e58d-4fd1-8671-fe4b15163cc3",
   "metadata": {},
   "outputs": [
    {
     "data": {
      "text/plain": [
       "(3, 4)"
      ]
     },
     "execution_count": 13,
     "metadata": {},
     "output_type": "execute_result"
    }
   ],
   "source": [
    "# shape \n",
    "mat3.shape"
   ]
  },
  {
   "cell_type": "code",
   "execution_count": 14,
   "id": "dfcd490d-d164-476e-8383-44c4ba181a44",
   "metadata": {},
   "outputs": [
    {
     "data": {
      "text/plain": [
       "3"
      ]
     },
     "execution_count": 14,
     "metadata": {},
     "output_type": "execute_result"
    }
   ],
   "source": [
    "# rows \n",
    "mat3.shape[0]"
   ]
  },
  {
   "cell_type": "code",
   "execution_count": 15,
   "id": "0a9bdb29-f76b-4d1a-907e-0e2c56a5ee98",
   "metadata": {},
   "outputs": [
    {
     "data": {
      "text/plain": [
       "4"
      ]
     },
     "execution_count": 15,
     "metadata": {},
     "output_type": "execute_result"
    }
   ],
   "source": [
    "# columns \n",
    "mat3.shape[1]"
   ]
  },
  {
   "cell_type": "markdown",
   "id": "63ac3c6c-a704-40db-b28f-4547ed89405a",
   "metadata": {},
   "source": [
    "## Size \n",
    "- Returns the number of elements from a matrix \n",
    "- **Syntax:** `array.size`"
   ]
  },
  {
   "cell_type": "code",
   "execution_count": 17,
   "id": "c6351533-efeb-4833-ae9d-21fd0ef8cd19",
   "metadata": {},
   "outputs": [
    {
     "data": {
      "text/plain": [
       "matrix([[ 1,  2,  3,  4],\n",
       "        [ 4,  5,  6,  7],\n",
       "        [ 7,  8,  9, 10]])"
      ]
     },
     "execution_count": 17,
     "metadata": {},
     "output_type": "execute_result"
    }
   ],
   "source": [
    "mat4 = np.matrix(\"1, 2, 3, 4; 4, 5, 6, 7; 7, 8, 9, 10\")\n",
    "mat4"
   ]
  },
  {
   "cell_type": "code",
   "execution_count": 18,
   "id": "0b6c3e30-ffd5-40ac-b688-949d5d7941dd",
   "metadata": {},
   "outputs": [
    {
     "data": {
      "text/plain": [
       "12"
      ]
     },
     "execution_count": 18,
     "metadata": {},
     "output_type": "execute_result"
    }
   ],
   "source": [
    "# size \n",
    "mat4.size"
   ]
  },
  {
   "cell_type": "markdown",
   "id": "7a07fcaa-0252-4bf5-b581-384daca9edaf",
   "metadata": {},
   "source": [
    "## Modifying matrix using `insert()`\n",
    "- Adds values at a given position and axis in a matrix \n",
    "- **Syntax:** `np.insert(matrix, object, values, axis)`\n",
    "    - matrix - input matrix \n",
    "    - object - index position \n",
    "    - values - matrix of values to be inserted "
   ]
  },
  {
   "cell_type": "code",
   "execution_count": 19,
   "id": "062ccf4c-96b5-4588-bcd9-b0ddf42ba7f2",
   "metadata": {},
   "outputs": [
    {
     "name": "stdout",
     "output_type": "stream",
     "text": [
      "[[ 1  2  3  4]\n",
      " [ 4  5  6  7]\n",
      " [ 7  8  9 10]]\n"
     ]
    }
   ],
   "source": []
  },
  {
   "cell_type": "markdown",
   "id": "92764e1d-2e3d-450f-a3c2-7955c34f05c1",
   "metadata": {},
   "source": [
    "## 3.4.2.3 Operations"
   ]
  },
  {
   "cell_type": "code",
   "execution_count": 32,
   "id": "b2035b22-e3d5-4262-9306-ff0b59aeea3b",
   "metadata": {},
   "outputs": [
    {
     "name": "stdout",
     "output_type": "stream",
     "text": [
      "[[ 0  1  2  3]\n",
      " [ 4  5  6  7]\n",
      " [ 8  9 10 11]\n",
      " [12 13 14 15]\n",
      " [16 17 18 19]]\n"
     ]
    }
   ],
   "source": [
    "A = np.arange(0, 20).reshape(5,4)\n",
    "print(A)"
   ]
  },
  {
   "cell_type": "code",
   "execution_count": 33,
   "id": "aef76a4a-836a-4415-a33a-22837df450f5",
   "metadata": {},
   "outputs": [
    {
     "data": {
      "text/plain": [
       "(5, 4)"
      ]
     },
     "execution_count": 33,
     "metadata": {},
     "output_type": "execute_result"
    }
   ],
   "source": [
    "A.shape "
   ]
  },
  {
   "cell_type": "code",
   "execution_count": 34,
   "id": "3a1eba29-7c7f-4e9b-b8d2-e7a360178b9f",
   "metadata": {},
   "outputs": [
    {
     "name": "stdout",
     "output_type": "stream",
     "text": [
      "[[20 21 22 23]\n",
      " [24 25 26 27]\n",
      " [28 29 30 31]\n",
      " [32 33 34 35]\n",
      " [36 37 38 39]]\n"
     ]
    }
   ],
   "source": [
    "B = np.arange(20, 40).reshape(5,4)\n",
    "print(B)"
   ]
  },
  {
   "cell_type": "code",
   "execution_count": 35,
   "id": "b5f7e808-a108-43c7-ad29-32ef7f428b65",
   "metadata": {},
   "outputs": [
    {
     "data": {
      "text/plain": [
       "(5, 4)"
      ]
     },
     "execution_count": 35,
     "metadata": {},
     "output_type": "execute_result"
    }
   ],
   "source": [
    "B.shape"
   ]
  },
  {
   "cell_type": "markdown",
   "id": "58e2ddef-2c04-424e-9696-b735df34e61e",
   "metadata": {},
   "source": [
    "### Addition\n",
    "- `np.add()`- performs element-wise addition between two matrices \n",
    "- **Syntax:** `np.add(matrix_1, matrix_2)`\n",
    "![add](../img/Matrix_Addition.png)"
   ]
  },
  {
   "cell_type": "code",
   "execution_count": 37,
   "id": "a7cd2b62-8b28-4a13-b717-26f58615fc25",
   "metadata": {},
   "outputs": [
    {
     "data": {
      "text/plain": [
       "array([[20, 22, 24, 26],\n",
       "       [28, 30, 32, 34],\n",
       "       [36, 38, 40, 42],\n",
       "       [44, 46, 48, 50],\n",
       "       [52, 54, 56, 58]])"
      ]
     },
     "execution_count": 37,
     "metadata": {},
     "output_type": "execute_result"
    }
   ],
   "source": [
    "# addition \n",
    "C = np.add(A, B)\n",
    "C "
   ]
  },
  {
   "cell_type": "code",
   "execution_count": 38,
   "id": "1640fd40-feed-42fe-ada4-970aef411c96",
   "metadata": {},
   "outputs": [
    {
     "data": {
      "text/plain": [
       "(5, 4)"
      ]
     },
     "execution_count": 38,
     "metadata": {},
     "output_type": "execute_result"
    }
   ],
   "source": [
    "# shape of new mat \n",
    "C.shape"
   ]
  },
  {
   "cell_type": "markdown",
   "id": "ad8b4227-e9b2-4325-9389-6c9b90a498eb",
   "metadata": {},
   "source": [
    "### Subtraction\n",
    "- `np.subtract()` - performs element-wise subtraction between two matrices. \n",
    "- **Syntax:** `np.subtract(matrix_1, matrix_2`) \n",
    "![sub](../img/Matrix_Subtraction.png)"
   ]
  },
  {
   "cell_type": "code",
   "execution_count": 39,
   "id": "303d43fc-fa6f-49e5-b4bc-f810f92874d9",
   "metadata": {},
   "outputs": [
    {
     "data": {
      "text/plain": [
       "array([[-20, -20, -20, -20],\n",
       "       [-20, -20, -20, -20],\n",
       "       [-20, -20, -20, -20],\n",
       "       [-20, -20, -20, -20],\n",
       "       [-20, -20, -20, -20]])"
      ]
     },
     "execution_count": 39,
     "metadata": {},
     "output_type": "execute_result"
    }
   ],
   "source": [
    "# subtract\n",
    "D = np.subtract(A, B)\n",
    "D "
   ]
  },
  {
   "cell_type": "code",
   "execution_count": 40,
   "id": "b28a7c03-8ba8-4217-9db8-989a2558971a",
   "metadata": {},
   "outputs": [
    {
     "data": {
      "text/plain": [
       "(5, 4)"
      ]
     },
     "execution_count": 40,
     "metadata": {},
     "output_type": "execute_result"
    }
   ],
   "source": [
    "# shape of new mat \n",
    "D.shape"
   ]
  },
  {
   "cell_type": "markdown",
   "id": "7bc56197-0d09-4e81-a09c-bb50681e0769",
   "metadata": {},
   "source": [
    "### Transpose \n",
    "- `np.transpose()` - Permute the dimensions of an array.\n",
    "- Transposing an $M \\times N$ matrix flips it around the center diagonal and results in an $N \\times M$ matrix.\n",
    "- **Syntax:** `np.transpose(matrix)`\n",
    "![transpose](../img/Matrix_Transpose.png)"
   ]
  },
  {
   "cell_type": "code",
   "execution_count": 41,
   "id": "a3190789-88e6-44be-ad62-6aad74673bcd",
   "metadata": {},
   "outputs": [
    {
     "name": "stdout",
     "output_type": "stream",
     "text": [
      "[[ 0  1  2  3]\n",
      " [ 4  5  6  7]\n",
      " [ 8  9 10 11]\n",
      " [12 13 14 15]\n",
      " [16 17 18 19]]\n"
     ]
    }
   ],
   "source": [
    "A = np.arange(0, 20).reshape(5,4)\n",
    "print(A)"
   ]
  },
  {
   "cell_type": "code",
   "execution_count": 42,
   "id": "fbf8052c-c031-4c8b-8f5b-f43e30903f11",
   "metadata": {},
   "outputs": [
    {
     "data": {
      "text/plain": [
       "array([[ 0,  4,  8, 12, 16],\n",
       "       [ 1,  5,  9, 13, 17],\n",
       "       [ 2,  6, 10, 14, 18],\n",
       "       [ 3,  7, 11, 15, 19]])"
      ]
     },
     "execution_count": 42,
     "metadata": {},
     "output_type": "execute_result"
    }
   ],
   "source": [
    "# transpose \n",
    "T = np.transpose(A)\n",
    "T "
   ]
  },
  {
   "cell_type": "code",
   "execution_count": 43,
   "id": "8abd2b4e-e8bd-4854-bad3-d51dd3cc28d8",
   "metadata": {},
   "outputs": [
    {
     "data": {
      "text/plain": [
       "(4, 5)"
      ]
     },
     "execution_count": 43,
     "metadata": {},
     "output_type": "execute_result"
    }
   ],
   "source": [
    "# shape of new mat \n",
    "T.shape"
   ]
  },
  {
   "cell_type": "markdown",
   "id": "800212fd-c159-4911-b600-44a6f0627f18",
   "metadata": {},
   "source": [
    "### Multiplication \n",
    "- `np.dot()` - performs matrix multiplication between two matrices.\n",
    "- **Syntax:** `np.dot(matrix_1, matrix_2)`\n",
    "![mul](../img/Matrix_Multiplication.png)"
   ]
  },
  {
   "cell_type": "code",
   "execution_count": 51,
   "id": "7cf46d5f-d890-4319-84fd-fc2a2b39ab52",
   "metadata": {},
   "outputs": [],
   "source": [
    "A = np.arange(0, 20).reshape(5,4)\n",
    "B = np.arange(20, 40).reshape(5,4)"
   ]
  },
  {
   "cell_type": "code",
   "execution_count": 45,
   "id": "ed4362f2-4895-4e25-96a2-ea4decc7a6b4",
   "metadata": {},
   "outputs": [
    {
     "data": {
      "text/plain": [
       "array([[ 0,  1,  2,  3],\n",
       "       [ 4,  5,  6,  7],\n",
       "       [ 8,  9, 10, 11],\n",
       "       [12, 13, 14, 15],\n",
       "       [16, 17, 18, 19]])"
      ]
     },
     "execution_count": 45,
     "metadata": {},
     "output_type": "execute_result"
    }
   ],
   "source": [
    "A "
   ]
  },
  {
   "cell_type": "code",
   "execution_count": 46,
   "id": "61e56a6b-56ab-40fc-9d62-b98c15622200",
   "metadata": {},
   "outputs": [
    {
     "data": {
      "text/plain": [
       "(5, 4)"
      ]
     },
     "execution_count": 46,
     "metadata": {},
     "output_type": "execute_result"
    }
   ],
   "source": [
    "A.shape "
   ]
  },
  {
   "cell_type": "code",
   "execution_count": 47,
   "id": "17e21e1d-379a-44b5-a755-1218d2bf56c3",
   "metadata": {},
   "outputs": [
    {
     "data": {
      "text/plain": [
       "array([[20, 21, 22, 23],\n",
       "       [24, 25, 26, 27],\n",
       "       [28, 29, 30, 31],\n",
       "       [32, 33, 34, 35],\n",
       "       [36, 37, 38, 39]])"
      ]
     },
     "execution_count": 47,
     "metadata": {},
     "output_type": "execute_result"
    }
   ],
   "source": [
    "B "
   ]
  },
  {
   "cell_type": "code",
   "execution_count": 50,
   "id": "dcd70e7e-7854-4d6c-a290-cfbfdaaa62c9",
   "metadata": {},
   "outputs": [
    {
     "data": {
      "text/plain": [
       "array([[ 190,  196,  202,  208,  214],\n",
       "       [ 630,  652,  674,  696,  718],\n",
       "       [1070, 1108, 1146, 1184, 1222],\n",
       "       [1510, 1564, 1618, 1672, 1726],\n",
       "       [1950, 2020, 2090, 2160, 2230]])"
      ]
     },
     "execution_count": 50,
     "metadata": {},
     "output_type": "execute_result"
    }
   ],
   "source": [
    "# multiplication\n",
    "np.dot(A,B) "
   ]
  },
  {
   "cell_type": "markdown",
   "id": "e4d48f8a-381a-4edb-b502-64e015ccc893",
   "metadata": {},
   "source": [
    "__Note__\n",
    "- For matrix multiplication the number of **columns** in matrix $A$ should be equal to the number of **rows** in matrix $B$\n",
    "- Here, Order of matrix $A$ = $5 \\times 4$ and order of matrix $B$ = $5 \\times 4$\n",
    "- So, $5 \\neq 4$\n",
    "- That's why it shows *ValueError: shapes (5,4) and (5,4) not aligned: 4 (dim 1) != 5 (dim 0)*"
   ]
  },
  {
   "cell_type": "code",
   "execution_count": 52,
   "id": "80a78df2-25d6-450c-a6e1-a5952e71a63e",
   "metadata": {},
   "outputs": [
    {
     "name": "stdout",
     "output_type": "stream",
     "text": [
      "[[20 24 28 32 36]\n",
      " [21 25 29 33 37]\n",
      " [22 26 30 34 38]\n",
      " [23 27 31 35 39]]\n"
     ]
    }
   ],
   "source": [
    "# transpose matrix B to make it 4x5 in dimension\n",
    "T = np.transpose(B)\n",
    "print(T)"
   ]
  },
  {
   "cell_type": "code",
   "execution_count": 53,
   "id": "bfafbc4d-135e-4479-a90f-8f6e256e3f2a",
   "metadata": {},
   "outputs": [
    {
     "data": {
      "text/plain": [
       "(4, 5)"
      ]
     },
     "execution_count": 53,
     "metadata": {},
     "output_type": "execute_result"
    }
   ],
   "source": [
    "# shape of T \n",
    "T.shape "
   ]
  },
  {
   "cell_type": "code",
   "execution_count": 55,
   "id": "9f43558c-fdd8-4ffe-826a-dcdfea7103e3",
   "metadata": {},
   "outputs": [],
   "source": [
    "# A = (5 x 4) ; B = (4 X 5)"
   ]
  },
  {
   "cell_type": "code",
   "execution_count": 56,
   "id": "882d1439-25aa-4b49-b962-5a0a71b97d0b",
   "metadata": {},
   "outputs": [
    {
     "data": {
      "text/plain": [
       "array([[ 134,  158,  182,  206,  230],\n",
       "       [ 478,  566,  654,  742,  830],\n",
       "       [ 822,  974, 1126, 1278, 1430],\n",
       "       [1166, 1382, 1598, 1814, 2030],\n",
       "       [1510, 1790, 2070, 2350, 2630]])"
      ]
     },
     "execution_count": 56,
     "metadata": {},
     "output_type": "execute_result"
    }
   ],
   "source": [
    "# now we can perform multiplication\n",
    "M = np.dot(A,T)\n",
    "M "
   ]
  },
  {
   "cell_type": "code",
   "execution_count": 57,
   "id": "93b3ce54-2817-481a-8086-aaed86d6210c",
   "metadata": {},
   "outputs": [
    {
     "data": {
      "text/plain": [
       "(5, 5)"
      ]
     },
     "execution_count": 57,
     "metadata": {},
     "output_type": "execute_result"
    }
   ],
   "source": [
    "# shape of M \n",
    "M.shape"
   ]
  },
  {
   "cell_type": "code",
   "execution_count": 58,
   "id": "0bf8910b-47da-43df-9d4e-7c83a31a80c5",
   "metadata": {},
   "outputs": [
    {
     "data": {
      "text/plain": [
       "array([[ 134,  158,  182,  206,  230],\n",
       "       [ 478,  566,  654,  742,  830],\n",
       "       [ 822,  974, 1126, 1278, 1430],\n",
       "       [1166, 1382, 1598, 1814, 2030],\n",
       "       [1510, 1790, 2070, 2350, 2630]])"
      ]
     },
     "execution_count": 58,
     "metadata": {},
     "output_type": "execute_result"
    }
   ],
   "source": [
    "# using matmul \n",
    "np.matmul(A, T)"
   ]
  },
  {
   "cell_type": "code",
   "execution_count": 59,
   "id": "6e0f7f2c-bcee-47b1-bc29-00881ba00b31",
   "metadata": {},
   "outputs": [
    {
     "data": {
      "text/plain": [
       "array([[ 134,  158,  182,  206,  230],\n",
       "       [ 478,  566,  654,  742,  830],\n",
       "       [ 822,  974, 1126, 1278, 1430],\n",
       "       [1166, 1382, 1598, 1814, 2030],\n",
       "       [1510, 1790, 2070, 2350, 2630]])"
      ]
     },
     "execution_count": 59,
     "metadata": {},
     "output_type": "execute_result"
    }
   ],
   "source": [
    "# using @ operator \n",
    "A @ T "
   ]
  },
  {
   "cell_type": "markdown",
   "id": "70c7beb4-c56d-4d43-a1a0-385a64092ee1",
   "metadata": {},
   "source": [
    "### Element-wise multiplication\n",
    "- `np.multiply()` - performs element-wise multiplication\n",
    "between two matrices. \n",
    "- **Syntax:** `np.multiply(matrix1, matrix2)`"
   ]
  },
  {
   "cell_type": "code",
   "execution_count": 61,
   "id": "16ba2717-c7d3-496d-8436-62e4763b30fb",
   "metadata": {},
   "outputs": [
    {
     "data": {
      "text/plain": [
       "array([[  0,  21,  44,  69],\n",
       "       [ 96, 125, 156, 189],\n",
       "       [224, 261, 300, 341],\n",
       "       [384, 429, 476, 525],\n",
       "       [576, 629, 684, 741]])"
      ]
     },
     "execution_count": 61,
     "metadata": {},
     "output_type": "execute_result"
    }
   ],
   "source": [
    "# element-wise multiplication \n",
    "N = np.multiply(A, B)\n",
    "N "
   ]
  },
  {
   "cell_type": "code",
   "execution_count": 62,
   "id": "156bcacb-c8c8-41b7-93d9-de749b3e2b0a",
   "metadata": {},
   "outputs": [
    {
     "data": {
      "text/plain": [
       "(5, 4)"
      ]
     },
     "execution_count": 62,
     "metadata": {},
     "output_type": "execute_result"
    }
   ],
   "source": [
    "# shape of N \n",
    "N.shape"
   ]
  },
  {
   "cell_type": "markdown",
   "id": "96312a20-a130-4d04-84e4-3376b642c2a1",
   "metadata": {},
   "source": [
    "### Division \n",
    "- `np.divide()` - performs element-wise division between two matrices. \n",
    "- **Syntax:** `np.divide(matrix_1, matrix_2)`"
   ]
  },
  {
   "cell_type": "code",
   "execution_count": 63,
   "id": "a470945f-8b44-47aa-8168-0c0afa71142e",
   "metadata": {},
   "outputs": [
    {
     "data": {
      "text/plain": [
       "array([[0.        , 0.04761905, 0.09090909, 0.13043478],\n",
       "       [0.16666667, 0.2       , 0.23076923, 0.25925926],\n",
       "       [0.28571429, 0.31034483, 0.33333333, 0.35483871],\n",
       "       [0.375     , 0.39393939, 0.41176471, 0.42857143],\n",
       "       [0.44444444, 0.45945946, 0.47368421, 0.48717949]])"
      ]
     },
     "execution_count": 63,
     "metadata": {},
     "output_type": "execute_result"
    },
    {
     "name": "stdout",
     "output_type": "stream",
     "text": [
      "The history saving thread hit an unexpected error (OperationalError('attempt to write a readonly database')).History will not be written to the database.\n"
     ]
    }
   ],
   "source": [
    "# division\n",
    "H = np.divide(A, B)\n",
    "H "
   ]
  },
  {
   "cell_type": "code",
   "execution_count": 64,
   "id": "3e695995-f832-4854-a3fb-5f0aec9857f9",
   "metadata": {},
   "outputs": [
    {
     "data": {
      "text/plain": [
       "(5, 4)"
      ]
     },
     "execution_count": 64,
     "metadata": {},
     "output_type": "execute_result"
    }
   ],
   "source": [
    "H.shape"
   ]
  },
  {
   "cell_type": "markdown",
   "id": "7241ef37-a261-4696-ad14-b2891f372a79",
   "metadata": {},
   "source": [
    "*Copyright &copy; 2024  [Md. Jubayer Hossain](https://hossainlab.github.io/) &  [Center for Bioinformatics Learning Advancement and Systematic Training (cBLAST)](https://www.cblast.du.ac.bd/). All rights reserved*"
   ]
  }
 ],
 "metadata": {
  "kernelspec": {
   "display_name": "Python 3 (ipykernel)",
   "language": "python",
   "name": "python3"
  },
  "language_info": {
   "codemirror_mode": {
    "name": "ipython",
    "version": 3
   },
   "file_extension": ".py",
   "mimetype": "text/x-python",
   "name": "python",
   "nbconvert_exporter": "python",
   "pygments_lexer": "ipython3",
   "version": "3.10.12"
  }
 },
 "nbformat": 4,
 "nbformat_minor": 5
}
