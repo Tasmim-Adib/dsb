{
 "cells": [
  {
   "cell_type": "markdown",
   "id": "3bde770e-8bcb-4973-8445-00bc74cfc9a4",
   "metadata": {},
   "source": [
    "# Module 03 - Scientific Computing with Numpy\n",
    "\n",
    "---\n",
    "\n",
    "#### <a href=\"linkedin.com/in/tasmim-rahman-adib-403074221\">Tasmim Rahman Adib</a>\n",
    "![numpylogo](../img/numpy.jpeg)\n",
    "\n",
    "# Lecture 3.2 - Indexing, Slicing, Subsetting\n",
    "## Agenda\n",
    "- Indexing\n",
    "- Slicing\n",
    "- Subsetting"
   ]
  },
  {
   "cell_type": "code",
   "execution_count": 1,
   "id": "a715450d-b0c1-4019-92cb-2c1df69d4bc6",
   "metadata": {},
   "outputs": [],
   "source": [
    "#conventional import\n",
    "import numpy as np"
   ]
  },
  {
   "cell_type": "markdown",
   "id": "47eefd45-6735-45df-9d0b-368ca4ec1150",
   "metadata": {},
   "source": [
    "## 3.2.1 Indexing\n",
    "![indexing](../img/axis.jpg)"
   ]
  },
  {
   "cell_type": "markdown",
   "id": "d5c58960-8ff3-4371-95cd-248536bc37be",
   "metadata": {},
   "source": [
    "### Positive Indexing\n",
    "Select `nth` element of an array by using `var[position]`"
   ]
  },
  {
   "cell_type": "code",
   "execution_count": 3,
   "id": "5d3463fa-f7e6-4c5b-b916-35c7f0526495",
   "metadata": {},
   "outputs": [
    {
     "name": "stdout",
     "output_type": "stream",
     "text": [
      "[1 2 3 4 5 6 7 8]\n"
     ]
    }
   ],
   "source": [
    "# Create an array \n",
    "A = np.array([1, 2, 3, 4, 5, 6, 7, 8])\n",
    "print(A)"
   ]
  },
  {
   "cell_type": "code",
   "execution_count": 6,
   "id": "ac0cf81e-dece-4833-97b7-9e95b6b77773",
   "metadata": {},
   "outputs": [
    {
     "name": "stdout",
     "output_type": "stream",
     "text": [
      "1\n"
     ]
    }
   ],
   "source": [
    "# Select 0th element of `A`\n",
    "print(A[0])"
   ]
  },
  {
   "cell_type": "code",
   "execution_count": 7,
   "id": "cd73e893-d5b8-47c1-9aa8-cc5f2a78f9c7",
   "metadata": {},
   "outputs": [
    {
     "name": "stdout",
     "output_type": "stream",
     "text": [
      "6\n"
     ]
    }
   ],
   "source": [
    "# Create a 2D array\n",
    "arr = np.array([[1, 2, 3], [4, 5, 6], [7, 8, 9]])\n",
    "\n",
    "# Indexing a single element (row 1, column 2)\n",
    "print(arr[1, 2])"
   ]
  },
  {
   "cell_type": "markdown",
   "id": "f432887e-60d1-45cd-94b8-6a35f93f2027",
   "metadata": {},
   "source": [
    "### Negative Indexing"
   ]
  },
  {
   "cell_type": "code",
   "execution_count": 9,
   "id": "74c901ee-51cb-4e9e-8efc-0fa5b0b7c1c5",
   "metadata": {},
   "outputs": [
    {
     "name": "stdout",
     "output_type": "stream",
     "text": [
      "8\n"
     ]
    }
   ],
   "source": [
    "# Select last element of `A`\n",
    "print(A[-1])"
   ]
  },
  {
   "cell_type": "code",
   "execution_count": 11,
   "id": "87ac475e-b234-4d44-a61c-d0f43ef65fc4",
   "metadata": {},
   "outputs": [
    {
     "name": "stdout",
     "output_type": "stream",
     "text": [
      "7\n"
     ]
    }
   ],
   "source": [
    "print(A[-2])"
   ]
  },
  {
   "cell_type": "markdown",
   "id": "513282fb-cce3-4d33-bc95-764b58dffef2",
   "metadata": {},
   "source": [
    "Extract a Portion of a Sequence by specifying a lower and upper bound. The lower bound element is `included`, but the upper-bound element is `not included`. Mathematically: [lower, upper]. The stop value specifies the stride between elements.\n"
   ]
  },
  {
   "cell_type": "code",
   "execution_count": 2,
   "id": "79711f6f-ee72-4faa-9f4c-a20fe36d3832",
   "metadata": {},
   "outputs": [],
   "source": [
    "B = np.array([1, 2, 3, 4, 5, 6, 7])"
   ]
  },
  {
   "cell_type": "code",
   "execution_count": 3,
   "id": "317c8d64-ca4e-42db-8272-ffb4a45b4e09",
   "metadata": {},
   "outputs": [
    {
     "data": {
      "text/plain": [
       "array([1, 2, 3, 4, 5, 6, 7])"
      ]
     },
     "execution_count": 3,
     "metadata": {},
     "output_type": "execute_result"
    }
   ],
   "source": [
    "B"
   ]
  },
  {
   "cell_type": "code",
   "execution_count": 4,
   "id": "12551118-8bad-40e6-9c3c-05d93a28dffd",
   "metadata": {},
   "outputs": [
    {
     "data": {
      "text/plain": [
       "array([2, 3])"
      ]
     },
     "execution_count": 4,
     "metadata": {},
     "output_type": "execute_result"
    }
   ],
   "source": [
    "# indices: A[i:j] => i: j-1 \n",
    "B[1:3]"
   ]
  },
  {
   "cell_type": "code",
   "execution_count": 5,
   "id": "97784cc7-61f6-4ac5-9b98-e0b1f8e7a503",
   "metadata": {},
   "outputs": [
    {
     "data": {
      "text/plain": [
       "array([2, 3, 4, 5])"
      ]
     },
     "execution_count": 5,
     "metadata": {},
     "output_type": "execute_result"
    }
   ],
   "source": [
    "# negative indices work also\n",
    "B[1:-2]"
   ]
  },
  {
   "cell_type": "code",
   "execution_count": 6,
   "id": "b3a7111f-2aec-4518-80b4-cfe83b170cb1",
   "metadata": {},
   "outputs": [
    {
     "data": {
      "text/plain": [
       "array([], dtype=int64)"
      ]
     },
     "execution_count": 6,
     "metadata": {},
     "output_type": "execute_result"
    }
   ],
   "source": [
    "B[-4:3]"
   ]
  },
  {
   "cell_type": "markdown",
   "id": "31d8c45a-0611-4a0f-b6b0-935069b2ab5b",
   "metadata": {},
   "source": [
    "Omitted boundaries are assumed to be the beginning (or end) of the list"
   ]
  },
  {
   "cell_type": "code",
   "execution_count": 8,
   "id": "5401cefc-390c-4819-8147-005f91d471fa",
   "metadata": {},
   "outputs": [
    {
     "data": {
      "text/plain": [
       "array([1, 2, 3])"
      ]
     },
     "execution_count": 8,
     "metadata": {},
     "output_type": "execute_result"
    }
   ],
   "source": [
    "# grab first theree elements: first n elements A[: n]\n",
    "B[:3]"
   ]
  },
  {
   "cell_type": "code",
   "execution_count": 9,
   "id": "bec81151-bcca-480f-8b22-663c393e8aff",
   "metadata": {},
   "outputs": [
    {
     "data": {
      "text/plain": [
       "array([4, 5, 6, 7])"
      ]
     },
     "execution_count": 9,
     "metadata": {},
     "output_type": "execute_result"
    }
   ],
   "source": [
    "B[3:]"
   ]
  },
  {
   "cell_type": "code",
   "execution_count": 10,
   "id": "8db03ce4-60c4-430f-bef5-326ad8f1da86",
   "metadata": {},
   "outputs": [
    {
     "data": {
      "text/plain": [
       "array([6, 7])"
      ]
     },
     "execution_count": 10,
     "metadata": {},
     "output_type": "execute_result"
    }
   ],
   "source": [
    "# grab last two elements \n",
    "B[-2:]"
   ]
  },
  {
   "cell_type": "code",
   "execution_count": 11,
   "id": "7925465b-4086-41d6-9adf-7cff07d0c5b7",
   "metadata": {},
   "outputs": [
    {
     "data": {
      "text/plain": [
       "array([1, 3, 5, 7])"
      ]
     },
     "execution_count": 11,
     "metadata": {},
     "output_type": "execute_result"
    }
   ],
   "source": [
    "# grab every other elements \n",
    "B[::2]"
   ]
  },
  {
   "cell_type": "markdown",
   "id": "5778eb0c-f893-4e70-ab69-20f9a5ad91a9",
   "metadata": {},
   "source": [
    "## 3.2.2 Slicing\n",
    "Slicing allows accessing a range of elements in an array. You can specify the start, stop, and step.\n",
    "![numpy_slicing](../img/slicing.png)"
   ]
  },
  {
   "cell_type": "markdown",
   "id": "ced6849e-579d-461f-b7a9-68eb7200ab56",
   "metadata": {},
   "source": [
    "## 1D Array Slicing\n",
    "- 1D array at index `i`\n",
    "- Returns the `ith` element of an array\n",
    "- **Syntax:** `array[i]`"
   ]
  },
  {
   "cell_type": "code",
   "execution_count": 12,
   "id": "da470434-8ac3-46c3-a6fc-0a695f853336",
   "metadata": {},
   "outputs": [],
   "source": [
    "# Create an 1D arary \n",
    "A1 = np.array([11, 22, 34, 12, 15])"
   ]
  },
  {
   "cell_type": "code",
   "execution_count": 13,
   "id": "aadf1be1-a836-4eae-b598-0ccd70fe1090",
   "metadata": {},
   "outputs": [
    {
     "data": {
      "text/plain": [
       "np.int64(22)"
      ]
     },
     "execution_count": 13,
     "metadata": {},
     "output_type": "execute_result"
    }
   ],
   "source": [
    "# Select ith element of A1 \n",
    "A1[1]"
   ]
  },
  {
   "cell_type": "code",
   "execution_count": 14,
   "id": "eaa0c7ce-91fd-4a42-ab95-6d81be50cbd9",
   "metadata": {},
   "outputs": [
    {
     "data": {
      "text/plain": [
       "np.int64(15)"
      ]
     },
     "execution_count": 14,
     "metadata": {},
     "output_type": "execute_result"
    }
   ],
   "source": [
    "# Negative indexing \n",
    "A1[-1]"
   ]
  },
  {
   "cell_type": "markdown",
   "id": "f5d18506-1555-4b64-9ff1-f5d208a1d60e",
   "metadata": {},
   "source": [
    "## 2D Array Slicing\n",
    "- 2D array at index `[i][j]`\n",
    "- Returns the `[i][j]` element of an array\n",
    "- **Syntax:** `array[i][j]`"
   ]
  },
  {
   "cell_type": "code",
   "execution_count": 15,
   "id": "85c53669-c088-4396-a38c-fb45916514ae",
   "metadata": {},
   "outputs": [
    {
     "name": "stdout",
     "output_type": "stream",
     "text": [
      "The history saving thread hit an unexpected error (OperationalError('attempt to write a readonly database')).History will not be written to the database.\n"
     ]
    }
   ],
   "source": [
    "# Create an 2D array \n",
    "A2 = np.array([[0, 1, 3], [4, 6, 7]])"
   ]
  },
  {
   "cell_type": "code",
   "execution_count": 16,
   "id": "956f5d5a-cabe-4d68-a90e-342667e87ac2",
   "metadata": {},
   "outputs": [
    {
     "data": {
      "text/plain": [
       "array([0, 1, 3])"
      ]
     },
     "execution_count": 16,
     "metadata": {},
     "output_type": "execute_result"
    }
   ],
   "source": [
    "# Select the first row of A2 \n",
    "A2[0]"
   ]
  },
  {
   "cell_type": "code",
   "execution_count": 17,
   "id": "66dff9fa-98d0-4a27-98b5-de1e160b5b55",
   "metadata": {},
   "outputs": [
    {
     "data": {
      "text/plain": [
       "np.int64(0)"
      ]
     },
     "execution_count": 17,
     "metadata": {},
     "output_type": "execute_result"
    }
   ],
   "source": [
    "# Select the first element of first row \n",
    "A2[0][0]"
   ]
  },
  {
   "cell_type": "markdown",
   "id": "41994f72-ace5-4b6e-bca1-3d93ec9b6b12",
   "metadata": {},
   "source": [
    "__Note__\n",
    "\n",
    "- First, `A2[0]` = [0, 1, 3], which is the first row of array `A2`\n",
    "- Second, `A2[0]` select the first element of first row. "
   ]
  },
  {
   "cell_type": "code",
   "execution_count": 18,
   "id": "8d040df6-cab7-4d50-90e5-28cc5897ad1e",
   "metadata": {},
   "outputs": [
    {
     "data": {
      "text/plain": [
       "array([4, 6, 7])"
      ]
     },
     "execution_count": 18,
     "metadata": {},
     "output_type": "execute_result"
    }
   ],
   "source": [
    "# Select the second row of A2 \n",
    "A2[1]"
   ]
  },
  {
   "cell_type": "code",
   "execution_count": 19,
   "id": "a58071fe-8773-4a5f-b24e-5f2c1937b0df",
   "metadata": {},
   "outputs": [
    {
     "data": {
      "text/plain": [
       "np.int64(7)"
      ]
     },
     "execution_count": 19,
     "metadata": {},
     "output_type": "execute_result"
    }
   ],
   "source": [
    "# Select the 3rd element of second row \n",
    "A2[1][2]"
   ]
  },
  {
   "cell_type": "markdown",
   "id": "a837ed03-43be-4574-8e9d-f546436c26e1",
   "metadata": {},
   "source": [
    "## 3.2.3 Subsetting\n",
    "Subsetting is like indexing but usually refers to selecting elements from an array based on a condition."
   ]
  },
  {
   "cell_type": "code",
   "execution_count": 21,
   "id": "73df69ca-2abb-4e12-b06f-ee77e4371a01",
   "metadata": {},
   "outputs": [],
   "source": [
    "# Create a 2D array\n",
    "arr = np.array([[1, 2, 3], [4, 5, 6], [7, 8, 9]])"
   ]
  },
  {
   "cell_type": "code",
   "execution_count": 22,
   "id": "720f5aa7-5050-4619-b68b-32e21877356a",
   "metadata": {},
   "outputs": [
    {
     "name": "stdout",
     "output_type": "stream",
     "text": [
      "[6 7 8 9]\n"
     ]
    }
   ],
   "source": [
    "# Subsetting elements greater than 5\n",
    "subset_arr = arr[arr > 5]  # Output: array([6, 7, 8, 9])\n",
    "print(subset_arr)\n"
   ]
  },
  {
   "cell_type": "markdown",
   "id": "8b322a09-e25a-4b56-bb19-4837c8f8e342",
   "metadata": {},
   "source": [
    "*Copyright &copy; 2024  [Md. Jubayer Hossain](https://hossainlab.github.io/) &  [Center for Bioinformatics Learning Advancement and Systematic Training (cBLAST)](https://www.cblast.du.ac.bd/). All rights reserved*"
   ]
  }
 ],
 "metadata": {
  "kernelspec": {
   "display_name": "Python 3 (ipykernel)",
   "language": "python",
   "name": "python3"
  },
  "language_info": {
   "codemirror_mode": {
    "name": "ipython",
    "version": 3
   },
   "file_extension": ".py",
   "mimetype": "text/x-python",
   "name": "python",
   "nbconvert_exporter": "python",
   "pygments_lexer": "ipython3",
   "version": "3.10.12"
  }
 },
 "nbformat": 4,
 "nbformat_minor": 5
}
