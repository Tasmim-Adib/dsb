{
 "cells": [
  {
   "cell_type": "markdown",
   "id": "10983718-8424-4eb2-8aee-c7346bcebf69",
   "metadata": {},
   "source": [
    "# Module 03 - Scientific Computing with Numpy\n",
    "\n",
    "---\n",
    "\n",
    "#### <a href=\"linkedin.com/in/tasmim-rahman-adib-403074221\">Tasmim Rahman Adib</a>\n",
    "![numpylogo](../img/numpy.jpeg)\n",
    "\n",
    "# Lecture 3.6 - Linear Algebra Operations\n",
    "## Agenda\n",
    "- Determinant of Matrix\n",
    "- Rank of Matrix\n",
    "- Inverse of Matrix"
   ]
  },
  {
   "cell_type": "code",
   "execution_count": 1,
   "id": "e78f095d-e42f-4542-aa9c-88835beb462f",
   "metadata": {},
   "outputs": [],
   "source": [
    "# import numpy\n",
    "import numpy as np "
   ]
  },
  {
   "cell_type": "markdown",
   "id": "d2ff8bc0-f4b8-4445-a686-6b17e7206095",
   "metadata": {},
   "source": [
    "### 3.6.1 Determinant of matrix \n",
    "- The determinant of a matrix is a special number that can be calculated from a **square matrix**\n",
    "\\begin{equation}\n",
    "A = \\begin{bmatrix} a & b \\\\ c & d \\end{bmatrix} \\\\ \n",
    "det(A) = ad - bc \n",
    "\\end{equation}\n",
    "Whre, A is a $2 \\times 2$ matrix. \n",
    "\n",
    "- `np.linalg.det()` - performs determinant of the matrix \n",
    "- **Syntax:** `np.linalg.det(matrix)`"
   ]
  },
  {
   "cell_type": "code",
   "execution_count": 2,
   "id": "8cffe0c7-1b43-47ab-a88d-55cd9d36c5fa",
   "metadata": {},
   "outputs": [
    {
     "name": "stdout",
     "output_type": "stream",
     "text": [
      "[[ 4  5 16  7]\n",
      " [ 2 -3  2  3]\n",
      " [ 3  4  5  6]\n",
      " [ 4  7  8  9]]\n"
     ]
    }
   ],
   "source": [
    "# create matrix A\n",
    "A = np.matrix(\"4, 5, 16, 7; 2,-3,2,3; 3,4,5,6; 4,7,8,9\")\n",
    "print(A)"
   ]
  },
  {
   "cell_type": "code",
   "execution_count": 3,
   "id": "f84e9fc5-f92f-4d57-b97f-49b7775908bd",
   "metadata": {},
   "outputs": [
    {
     "name": "stdout",
     "output_type": "stream",
     "text": [
      "[[ 4  5  6  7]\n",
      " [ 2 -3  3  3]\n",
      " [ 3  4  5  6]\n",
      " [ 4  7  8  9]]\n"
     ]
    }
   ],
   "source": [
    "# create matrix B\n",
    "B = np.matrix(\"4,5,6,7;2,-3,3,3; 3,4,5,6; 4, 7,8,9\")\n",
    "print(B)"
   ]
  },
  {
   "cell_type": "code",
   "execution_count": 4,
   "id": "710f5af4-0b64-4e28-8f70-c53665ced95d",
   "metadata": {},
   "outputs": [
    {
     "data": {
      "text/plain": [
       "np.float64(128.00000000000009)"
      ]
     },
     "execution_count": 4,
     "metadata": {},
     "output_type": "execute_result"
    }
   ],
   "source": [
    "# determinant of A \n",
    "np.linalg.det(A) "
   ]
  },
  {
   "cell_type": "code",
   "execution_count": 5,
   "id": "b1045083-3a4a-4722-a5df-479d94529442",
   "metadata": {},
   "outputs": [
    {
     "data": {
      "text/plain": [
       "np.float64(12.000000000000032)"
      ]
     },
     "execution_count": 5,
     "metadata": {},
     "output_type": "execute_result"
    }
   ],
   "source": [
    "# determinant of B \n",
    "np.linalg.det(B)"
   ]
  },
  {
   "cell_type": "markdown",
   "id": "6c1b19bc-7c1d-41b8-8cc6-16f590b47d9b",
   "metadata": {},
   "source": [
    "### 3.6.2 Rank of matrix \n",
    "- You can think of an $r x c$ matrix as a set of r row vectors, each having c elements; or you can think of it as a set of c column vectors, each having r elements.\n",
    "- The rank of a matrix is defined as (a) the maximum number of linearly independent column vectors in the matrix or (b) the maximum number of linearly independent row vectors in the matrix. Both definitions are equivalent.\n",
    "- If r is less than c, then the maximum rank of the matrix is r.\n",
    "- If r is greater than c, then the maximum rank of the matrix is c.\n",
    "- `np.linalg.matrix_rank()` - returns rank of the matrix \n",
    "- **Syntax:** `np.linalg.matrix_rank(matrix)`"
   ]
  },
  {
   "cell_type": "code",
   "execution_count": 6,
   "id": "4764e644-567e-4e38-904f-e2bec3fc8b0c",
   "metadata": {},
   "outputs": [
    {
     "data": {
      "text/plain": [
       "(4, 4)"
      ]
     },
     "execution_count": 6,
     "metadata": {},
     "output_type": "execute_result"
    }
   ],
   "source": [
    "A.shape "
   ]
  },
  {
   "cell_type": "code",
   "execution_count": 7,
   "id": "fe5d1c8a-7c1e-4a47-b9c0-2223f204625e",
   "metadata": {},
   "outputs": [
    {
     "data": {
      "text/plain": [
       "np.int64(4)"
      ]
     },
     "execution_count": 7,
     "metadata": {},
     "output_type": "execute_result"
    }
   ],
   "source": [
    "# rank of matrix A \n",
    "np.linalg.matrix_rank(A)"
   ]
  },
  {
   "cell_type": "code",
   "execution_count": 8,
   "id": "9e62bc7c-dc55-4fa9-84c3-e8a366cf6d25",
   "metadata": {},
   "outputs": [
    {
     "data": {
      "text/plain": [
       "np.int64(4)"
      ]
     },
     "execution_count": 8,
     "metadata": {},
     "output_type": "execute_result"
    }
   ],
   "source": [
    "# rank of matrix B \n",
    "np.linalg.matrix_rank(B)"
   ]
  },
  {
   "cell_type": "markdown",
   "id": "62016aef-cce2-4da8-b714-9018d252d451",
   "metadata": {},
   "source": [
    "### 3.6.3 Inverse of a Matrix \n",
    "- `np.linalg.inv()` - returns the multiplicative inverse of a matrix.\n",
    "- **Syntax:** `np.linalg.inv(matrix)`"
   ]
  },
  {
   "cell_type": "code",
   "execution_count": 9,
   "id": "1fcac0cf-8c6c-4e73-85bf-d98f6ec3c205",
   "metadata": {},
   "outputs": [
    {
     "data": {
      "text/plain": [
       "matrix([[ 9.37500000e-02, -4.68750000e-01,  3.68750000e+00,\n",
       "         -2.37500000e+00],\n",
       "        [ 1.00929366e-16, -2.50000000e-01,  5.00000000e-01,\n",
       "         -2.50000000e-01],\n",
       "        [ 9.37500000e-02,  3.12500000e-02, -3.12500000e-01,\n",
       "          1.25000000e-01],\n",
       "        [-1.25000000e-01,  3.75000000e-01, -1.75000000e+00,\n",
       "          1.25000000e+00]])"
      ]
     },
     "execution_count": 9,
     "metadata": {},
     "output_type": "execute_result"
    }
   ],
   "source": [
    "# inverse of matrix A \n",
    "np.linalg.inv(A)"
   ]
  },
  {
   "cell_type": "code",
   "execution_count": 10,
   "id": "1e5c162a-5144-48bf-b78b-8b28ecac09a1",
   "metadata": {},
   "outputs": [
    {
     "data": {
      "text/plain": [
       "matrix([[ 1.50000000e+00, -8.32667268e-17, -1.00000000e+00,\n",
       "         -5.00000000e-01],\n",
       "        [ 2.50000000e-01, -1.66666667e-01, -3.33333333e-01,\n",
       "          8.33333333e-02],\n",
       "        [ 1.00000000e+00,  3.33333333e-01, -3.33333333e+00,\n",
       "          1.33333333e+00],\n",
       "        [-1.75000000e+00, -1.66666667e-01,  3.66666667e+00,\n",
       "         -9.16666667e-01]])"
      ]
     },
     "execution_count": 10,
     "metadata": {},
     "output_type": "execute_result"
    }
   ],
   "source": [
    "# inverse of matrix B \n",
    "np.linalg.inv(B)"
   ]
  },
  {
   "cell_type": "markdown",
   "id": "5e6b9de1-d9a2-4dbc-b63b-5b5f3fec32ca",
   "metadata": {},
   "source": [
    "*Copyright &copy; 2024  [Md. Jubayer Hossain](https://hossainlab.github.io/) &  [Center for Bioinformatics Learning Advancement and Systematic Training (cBLAST)](https://www.cblast.du.ac.bd/). All rights reserved*"
   ]
  }
 ],
 "metadata": {
  "kernelspec": {
   "display_name": "Python 3 (ipykernel)",
   "language": "python",
   "name": "python3"
  },
  "language_info": {
   "codemirror_mode": {
    "name": "ipython",
    "version": 3
   },
   "file_extension": ".py",
   "mimetype": "text/x-python",
   "name": "python",
   "nbconvert_exporter": "python",
   "pygments_lexer": "ipython3",
   "version": "3.10.12"
  }
 },
 "nbformat": 4,
 "nbformat_minor": 5
}
