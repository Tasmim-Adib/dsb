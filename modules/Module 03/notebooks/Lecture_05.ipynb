{
 "cells": [
  {
   "cell_type": "markdown",
   "id": "21f16e11-6261-475d-af41-d835b7b1a90c",
   "metadata": {},
   "source": [
    "# Module 03 - Scientific Computing with Numpy\n",
    "\n",
    "---\n",
    "\n",
    "#### <a href=\"linkedin.com/in/tasmim-rahman-adib-403074221\">Tasmim Rahman Adib</a>\n",
    "![numpylogo](../img/numpy.jpeg)\n",
    "\n",
    "# Lecture 3.5 - Aggregations: Statistics\n",
    "## Agenda\n",
    "- Sum\n",
    "- Mean\n",
    "- Median\n",
    "- Minimum\n",
    "- Maximum\n",
    "- Range\n",
    "- Standard Deviation\n",
    "- Variance\n",
    "- Quantile\n",
    "- Correlation Coefficient"
   ]
  },
  {
   "cell_type": "code",
   "execution_count": 1,
   "id": "7fcfea1c-e168-48bb-9648-9e89c36f4a93",
   "metadata": {},
   "outputs": [],
   "source": [
    "#conventional import\n",
    "import numpy as np"
   ]
  },
  {
   "cell_type": "markdown",
   "id": "fc3f9384-8515-4045-a4fd-74ec8d4bf64c",
   "metadata": {},
   "source": [
    "## 3.5.1 Sum \n",
    "- Sum of array elements over a given axis.\n",
    "    - **Syntax:** `np.sum(array); array-wise sum`\n",
    "    - **Syntax:** `np.sum(array, axis=0); column-wise sum`\n",
    "    - **Syntax:** `np.sum(array, axis=1); row-wise sum`"
   ]
  },
  {
   "cell_type": "code",
   "execution_count": 2,
   "id": "1a3ce0af-920d-423e-8957-ba4e70b52111",
   "metadata": {},
   "outputs": [
    {
     "name": "stdout",
     "output_type": "stream",
     "text": [
      "[ 0  1  2  3  4  5  6  7  8  9 10 11 12 13 14 15 16 17 18 19]\n"
     ]
    }
   ],
   "source": [
    "# 1D array \n",
    "A1 = np.arange(20)\n",
    "print(A1)"
   ]
  },
  {
   "cell_type": "code",
   "execution_count": 6,
   "id": "3ef59079-ea5a-4535-a126-2d99211fdbad",
   "metadata": {},
   "outputs": [
    {
     "data": {
      "text/plain": [
       "1"
      ]
     },
     "execution_count": 6,
     "metadata": {},
     "output_type": "execute_result"
    }
   ],
   "source": [
    "A1.ndim #returns the depth of a numpy array. basically the row"
   ]
  },
  {
   "cell_type": "code",
   "execution_count": 13,
   "id": "9b36d8a8-2cdb-4273-a163-3e4801b9f8a6",
   "metadata": {},
   "outputs": [
    {
     "name": "stdout",
     "output_type": "stream",
     "text": [
      "[[11 12 13]\n",
      " [21 22 23]]\n"
     ]
    }
   ],
   "source": [
    "# 2D array \n",
    "A2 = np.array([[11, 12, 13], [21, 22, 23]])\n",
    "print(A2)"
   ]
  },
  {
   "cell_type": "code",
   "execution_count": 9,
   "id": "f34b5a08-b530-48cd-8e69-2f564864145e",
   "metadata": {},
   "outputs": [
    {
     "data": {
      "text/plain": [
       "array([32, 34, 36])"
      ]
     },
     "execution_count": 9,
     "metadata": {},
     "output_type": "execute_result"
    }
   ],
   "source": [
    "# Column-wise sum\n",
    "np.sum(A2, axis=0)"
   ]
  },
  {
   "cell_type": "code",
   "execution_count": 14,
   "id": "c2967342-e21f-43a8-ba57-3368eb1077be",
   "metadata": {},
   "outputs": [
    {
     "data": {
      "text/plain": [
       "array([36, 66])"
      ]
     },
     "execution_count": 14,
     "metadata": {},
     "output_type": "execute_result"
    }
   ],
   "source": [
    "# row-wise sum\n",
    "np.sum(A2, axis=1)"
   ]
  },
  {
   "cell_type": "code",
   "execution_count": 10,
   "id": "268b25c4-4eb9-4064-be1e-084ba0626933",
   "metadata": {},
   "outputs": [
    {
     "data": {
      "text/plain": [
       "np.int64(102)"
      ]
     },
     "execution_count": 10,
     "metadata": {},
     "output_type": "execute_result"
    }
   ],
   "source": [
    "np.sum(A2)"
   ]
  },
  {
   "cell_type": "markdown",
   "id": "b3d9487d-1f66-4432-ab76-c3b0831b475b",
   "metadata": {},
   "source": [
    "## 3.5.2 Mean \n",
    "- Compute the median along the specified axis.\n",
    "- Returns the average of the array elements. The average is taken over the flattened array by default,  otherwise over the specified axis. `float64` intermediate and return values re used for integer inputs.\n",
    "\n",
    "    - **Syntax:** `np.mean(array); array-wise mean`\n",
    "    - **Syntax:** `np.mean(array, axis=1); column-wise mean`\n",
    "    - **Syntax:** `np.mean(array, axis=0); row-wise mean`"
   ]
  },
  {
   "cell_type": "code",
   "execution_count": 15,
   "id": "db0296ca-e4b3-4cb7-a4b4-ecf30d00bac4",
   "metadata": {},
   "outputs": [
    {
     "data": {
      "text/plain": [
       "array([ 0,  1,  2,  3,  4,  5,  6,  7,  8,  9, 10, 11, 12, 13, 14, 15, 16,\n",
       "       17, 18, 19])"
      ]
     },
     "execution_count": 15,
     "metadata": {},
     "output_type": "execute_result"
    }
   ],
   "source": [
    "A1"
   ]
  },
  {
   "cell_type": "code",
   "execution_count": 16,
   "id": "36c44392-8504-4048-a89b-d4ffd990c2b3",
   "metadata": {},
   "outputs": [
    {
     "data": {
      "text/plain": [
       "array([[11, 12, 13],\n",
       "       [21, 22, 23]])"
      ]
     },
     "execution_count": 16,
     "metadata": {},
     "output_type": "execute_result"
    }
   ],
   "source": [
    "A2"
   ]
  },
  {
   "cell_type": "code",
   "execution_count": 19,
   "id": "be36de91-c1e7-4f7c-96b8-59fa6a0948bd",
   "metadata": {},
   "outputs": [
    {
     "data": {
      "text/plain": [
       "np.float64(9.5)"
      ]
     },
     "execution_count": 19,
     "metadata": {},
     "output_type": "execute_result"
    }
   ],
   "source": [
    "# compute the average of array `A1`\n",
    "np.mean(A1)"
   ]
  },
  {
   "cell_type": "code",
   "execution_count": 60,
   "id": "fe4c1022-2009-4aeb-9b04-27dbf8905603",
   "metadata": {},
   "outputs": [
    {
     "data": {
      "text/plain": [
       "array([12., 22.])"
      ]
     },
     "execution_count": 60,
     "metadata": {},
     "output_type": "execute_result"
    }
   ],
   "source": [
    "# mean of 2D array(axis=1, column-wise)\n",
    "np.mean(A2, axis=1)"
   ]
  },
  {
   "cell_type": "code",
   "execution_count": 61,
   "id": "f4b884a2-2b09-4970-9675-ad5e566e8fa0",
   "metadata": {},
   "outputs": [
    {
     "data": {
      "text/plain": [
       "array([16., 17., 18.])"
      ]
     },
     "execution_count": 61,
     "metadata": {},
     "output_type": "execute_result"
    }
   ],
   "source": [
    "# mean of 2D array(axis=0, row-wise)\n",
    "np.mean(A2, axis=0)"
   ]
  },
  {
   "cell_type": "markdown",
   "id": "90416f6a-871c-4166-80b3-4caf67227836",
   "metadata": {},
   "source": [
    "## 3.5.3 Median\n",
    "- Compute the median along the specified axis.\n",
    "- Returns the median of the array elements.\n",
    "    \n",
    "    - **Syntax:** `np.median(array); array-wise median`\n",
    "    - **Syntax:** `np.median(array, axis=1); column-wise median`\n",
    "    - **Syntax:** `np.median(array, axis=0); row-wise median`"
   ]
  },
  {
   "cell_type": "code",
   "execution_count": 25,
   "id": "2e471b57-3061-4542-a0d1-e5942a7dfdce",
   "metadata": {},
   "outputs": [
    {
     "data": {
      "text/plain": [
       "np.float64(9.5)"
      ]
     },
     "execution_count": 25,
     "metadata": {},
     "output_type": "execute_result"
    }
   ],
   "source": [
    "# compute the meadian of `A1`\n",
    "np.median(A1)"
   ]
  },
  {
   "cell_type": "code",
   "execution_count": 37,
   "id": "c1af0571-05c3-461f-9566-93a1fd1e5409",
   "metadata": {},
   "outputs": [
    {
     "data": {
      "text/plain": [
       "array([[11, 12, 13],\n",
       "       [21, 22, 23]])"
      ]
     },
     "execution_count": 37,
     "metadata": {},
     "output_type": "execute_result"
    }
   ],
   "source": [
    "A2"
   ]
  },
  {
   "cell_type": "code",
   "execution_count": 58,
   "id": "f280daa6-63d9-4f95-a657-a4d5ed26e8c1",
   "metadata": {},
   "outputs": [
    {
     "data": {
      "text/plain": [
       "array([12., 22.])"
      ]
     },
     "execution_count": 58,
     "metadata": {},
     "output_type": "execute_result"
    }
   ],
   "source": [
    "# median of 2D array(axis=1, column-wise)\n",
    "np.median(A2, axis=1)"
   ]
  },
  {
   "cell_type": "code",
   "execution_count": 59,
   "id": "8798874d-0268-45c8-8b23-080be4df893d",
   "metadata": {},
   "outputs": [
    {
     "data": {
      "text/plain": [
       "array([16., 17., 18.])"
      ]
     },
     "execution_count": 59,
     "metadata": {},
     "output_type": "execute_result"
    }
   ],
   "source": [
    "# median of 2D array(axis=0, row-wise)\n",
    "np.median(A2, axis=0)"
   ]
  },
  {
   "cell_type": "markdown",
   "id": "7d8c3911-6755-47e8-b3ec-90029c218398",
   "metadata": {},
   "source": [
    "## 3.5.4 Minimum \n",
    "- Return the minimum of an array or minimum along an axis.\n",
    "     \n",
    "    - **Syntax:** `np.min(array); array-wise min`\n",
    "    - **Syntax:** `np.min(array, axis=1); column-wise min`\n",
    "    - **Syntax:** `np.min(array, axis=0); row-wise min`"
   ]
  },
  {
   "cell_type": "code",
   "execution_count": 31,
   "id": "9a781f39-a406-4f40-9364-a8bb201a567a",
   "metadata": {},
   "outputs": [
    {
     "data": {
      "text/plain": [
       "np.int64(0)"
      ]
     },
     "execution_count": 31,
     "metadata": {},
     "output_type": "execute_result"
    }
   ],
   "source": [
    "# minimum value of `A1`\n",
    "np.min(A1)"
   ]
  },
  {
   "cell_type": "code",
   "execution_count": 36,
   "id": "87b4b51f-9c93-4499-9026-30b1674c5b7c",
   "metadata": {},
   "outputs": [
    {
     "data": {
      "text/plain": [
       "array([[11, 12, 13],\n",
       "       [21, 22, 23]])"
      ]
     },
     "execution_count": 36,
     "metadata": {},
     "output_type": "execute_result"
    }
   ],
   "source": [
    "A2"
   ]
  },
  {
   "cell_type": "code",
   "execution_count": 56,
   "id": "1ee3d764-adf1-4250-a104-ef9ee9841c2f",
   "metadata": {},
   "outputs": [
    {
     "data": {
      "text/plain": [
       "array([11, 21])"
      ]
     },
     "execution_count": 56,
     "metadata": {},
     "output_type": "execute_result"
    }
   ],
   "source": [
    "# minimum value of A2(axis=1, column-wise)\n",
    "np.min(A2, axis=1)"
   ]
  },
  {
   "cell_type": "code",
   "execution_count": 57,
   "id": "5870d11d-34a5-4680-9a62-0ff2c6b8029e",
   "metadata": {},
   "outputs": [
    {
     "data": {
      "text/plain": [
       "array([11, 12, 13])"
      ]
     },
     "execution_count": 57,
     "metadata": {},
     "output_type": "execute_result"
    }
   ],
   "source": [
    "# minimum value of A2(axis=0, row-wise)\n",
    "np.min(A2, axis=0)"
   ]
  },
  {
   "cell_type": "markdown",
   "id": "1513658c-e668-4cb5-9b91-5070072a01e3",
   "metadata": {},
   "source": [
    "## 3.5.5 Maximum\n",
    "- Return the maximum of an array or minimum along an axis.\n",
    "     \n",
    "    - **Syntax:** `np.max(array); array-wise max`\n",
    "    - **Syntax:** `np.max(array, axis=0); row-wise max`\n",
    "    - **Syntax:** `np.max(array, axis=1); column-wise max`"
   ]
  },
  {
   "cell_type": "code",
   "execution_count": 38,
   "id": "979ddb7a-49b6-459f-8ef6-310d8503d913",
   "metadata": {},
   "outputs": [
    {
     "data": {
      "text/plain": [
       "np.int64(19)"
      ]
     },
     "execution_count": 38,
     "metadata": {},
     "output_type": "execute_result"
    }
   ],
   "source": [
    "# maxiumum value of `A1`\n",
    "np.max(A1)"
   ]
  },
  {
   "cell_type": "code",
   "execution_count": 63,
   "id": "9cadfa5c-bd69-40be-ad01-efa84986535c",
   "metadata": {},
   "outputs": [
    {
     "data": {
      "text/plain": [
       "array([21, 22, 23])"
      ]
     },
     "execution_count": 63,
     "metadata": {},
     "output_type": "execute_result"
    }
   ],
   "source": [
    "# maxiumum value of A2(axis=0, row-wise)\n",
    "np.max(A2, axis=0)"
   ]
  },
  {
   "cell_type": "code",
   "execution_count": 42,
   "id": "05852abd-ea67-4682-b8ab-8ed594844277",
   "metadata": {},
   "outputs": [
    {
     "data": {
      "text/plain": [
       "array([[11, 12, 13],\n",
       "       [21, 22, 23]])"
      ]
     },
     "execution_count": 42,
     "metadata": {},
     "output_type": "execute_result"
    }
   ],
   "source": [
    "A2"
   ]
  },
  {
   "cell_type": "code",
   "execution_count": 62,
   "id": "bf6a66ac-13ab-43c3-b5e1-91fc9fb968e6",
   "metadata": {},
   "outputs": [
    {
     "data": {
      "text/plain": [
       "array([13, 23])"
      ]
     },
     "execution_count": 62,
     "metadata": {},
     "output_type": "execute_result"
    }
   ],
   "source": [
    "# maxiumum value of A2(axis=1, column-wise)\n",
    "np.max(A2, axis=1)"
   ]
  },
  {
   "cell_type": "markdown",
   "id": "ad81c2cd-6450-43c6-a6b5-f47ba8c2e59e",
   "metadata": {},
   "source": [
    "## 3.5.6 Range \n",
    "- **Syntax:** `np.max(array) - np.min(array)`"
   ]
  },
  {
   "cell_type": "code",
   "execution_count": 43,
   "id": "8296d7c8-21f4-4df4-9952-7676cf1c1c7d",
   "metadata": {},
   "outputs": [
    {
     "data": {
      "text/plain": [
       "np.int64(19)"
      ]
     },
     "execution_count": 43,
     "metadata": {},
     "output_type": "execute_result"
    }
   ],
   "source": [
    "A1.max() "
   ]
  },
  {
   "cell_type": "code",
   "execution_count": 44,
   "id": "b1b495fb-fd01-4406-b831-74223d088af1",
   "metadata": {},
   "outputs": [
    {
     "data": {
      "text/plain": [
       "np.int64(0)"
      ]
     },
     "execution_count": 44,
     "metadata": {},
     "output_type": "execute_result"
    }
   ],
   "source": [
    "A1.min() "
   ]
  },
  {
   "cell_type": "code",
   "execution_count": 45,
   "id": "89df890a-473a-4e9f-939d-699bbc1d8cd4",
   "metadata": {},
   "outputs": [
    {
     "name": "stdout",
     "output_type": "stream",
     "text": [
      "19\n"
     ]
    }
   ],
   "source": [
    "r = np.max(A1) - np.min(A1)\n",
    "print(r)"
   ]
  },
  {
   "cell_type": "markdown",
   "id": "d5386728-39c9-480d-8282-57e6a798e369",
   "metadata": {},
   "source": [
    "## 3.5.7 Standard Deviation\n",
    "- Compute the standard deviation along the specified axis.\n",
    "- Returns the standard deviation, a measure of the spread of a distribution, of the array elements. The standard deviation is computed for the\n",
    "flattened array by default, otherwise over the specified axis.\n",
    "    - **Syntax:** `np.std(array); array-wise std`\n",
    "    - **Syntax:** `np.std(array, axis=0); row-wise std`\n",
    "    - **Syntax:** `np.std(array, axis=1); column-wise std`"
   ]
  },
  {
   "cell_type": "code",
   "execution_count": 46,
   "id": "7fb7a958-6547-48a1-9a02-b1025239f7b6",
   "metadata": {},
   "outputs": [
    {
     "data": {
      "text/plain": [
       "np.float64(5.766281297335398)"
      ]
     },
     "execution_count": 46,
     "metadata": {},
     "output_type": "execute_result"
    }
   ],
   "source": [
    "# compute the standard deviation of `A1`\n",
    "np.std(A1)"
   ]
  },
  {
   "cell_type": "code",
   "execution_count": 47,
   "id": "a6de592a-c577-4739-ba72-8735055013a4",
   "metadata": {},
   "outputs": [
    {
     "data": {
      "text/plain": [
       "array([[11, 12, 13],\n",
       "       [21, 22, 23]])"
      ]
     },
     "execution_count": 47,
     "metadata": {},
     "output_type": "execute_result"
    }
   ],
   "source": [
    "A2"
   ]
  },
  {
   "cell_type": "code",
   "execution_count": 66,
   "id": "839cc114-cc72-46c7-aff1-f53ea664701a",
   "metadata": {},
   "outputs": [
    {
     "data": {
      "text/plain": [
       "array([0.81649658, 0.81649658])"
      ]
     },
     "execution_count": 66,
     "metadata": {},
     "output_type": "execute_result"
    }
   ],
   "source": [
    "# standard deviation of 2D array(axis=1, column-wise)\n",
    "np.std(A2, axis=1)"
   ]
  },
  {
   "cell_type": "code",
   "execution_count": 67,
   "id": "248fb897-1eb2-4419-969e-4f5adbbfa828",
   "metadata": {},
   "outputs": [
    {
     "data": {
      "text/plain": [
       "array([5., 5., 5.])"
      ]
     },
     "execution_count": 67,
     "metadata": {},
     "output_type": "execute_result"
    }
   ],
   "source": [
    "# standard deviation of 2D array(axis=0, row-wise)\n",
    "np.std(A2, axis=0)"
   ]
  },
  {
   "cell_type": "markdown",
   "id": "e14071b5-5d91-47ab-b5b1-d1939fa7784f",
   "metadata": {},
   "source": [
    "## 3.5.8 Variance\n",
    "- Compute the variance along the specified axis.\n",
    "- Returns the variance of the array elements, a measure of the spread of a\n",
    "  distribution.  The variance is computed for the flattened array by\n",
    "  default, otherwise over the specified axis.\n",
    "    - **Syntax:** `np.var(array); array-wise var`\n",
    "    - **Syntax:** `np.var(array, axis=0); row-wise var`\n",
    "    - **Syntax:** `np.var(array, axis=1); column-wise var`"
   ]
  },
  {
   "cell_type": "code",
   "execution_count": 68,
   "id": "bf8a9683-5f88-48f7-ba19-af84b4fb59bc",
   "metadata": {},
   "outputs": [
    {
     "data": {
      "text/plain": [
       "np.float64(33.25)"
      ]
     },
     "execution_count": 68,
     "metadata": {},
     "output_type": "execute_result"
    }
   ],
   "source": [
    "# compute the variance of `A`\n",
    "np.var(A1)"
   ]
  },
  {
   "cell_type": "code",
   "execution_count": 69,
   "id": "c61a6734-622b-4b29-9343-74387256b507",
   "metadata": {},
   "outputs": [
    {
     "data": {
      "text/plain": [
       "array([5., 5., 5.])"
      ]
     },
     "execution_count": 69,
     "metadata": {},
     "output_type": "execute_result"
    }
   ],
   "source": [
    "# variance of 2D array(axis=0, row-wise)\n",
    "np.std(A2, axis=0)"
   ]
  },
  {
   "cell_type": "code",
   "execution_count": 70,
   "id": "b5848c01-a979-4acd-8ae3-575c15822482",
   "metadata": {},
   "outputs": [
    {
     "data": {
      "text/plain": [
       "array([0.81649658, 0.81649658])"
      ]
     },
     "execution_count": 70,
     "metadata": {},
     "output_type": "execute_result"
    }
   ],
   "source": [
    "# variance of 2D array(axis=1, column-wise)\n",
    "np.std(A2, axis=1)"
   ]
  },
  {
   "cell_type": "markdown",
   "id": "c8c4a5db-9e42-45d7-b4a3-464489039fc2",
   "metadata": {},
   "source": [
    "## 3.5.9 Quantile\n",
    "- Compute the q-th quantile of the data along the specified axis.\n",
    "    - **Syntax:** `np.quantile(array); array-wise quantile`\n",
    "    - **Syntax:** `np.quantile(array, axis=0); row-wise quantile`\n",
    "    - **Syntax:** `np.quantile(array, axis=1); column-wise quantile`"
   ]
  },
  {
   "cell_type": "code",
   "execution_count": 71,
   "id": "240321bc-aadf-45b5-99ff-f7b9ee01e35d",
   "metadata": {},
   "outputs": [
    {
     "data": {
      "text/plain": [
       "np.float64(4.75)"
      ]
     },
     "execution_count": 71,
     "metadata": {},
     "output_type": "execute_result"
    }
   ],
   "source": [
    "# 25th percentile of `A1`\n",
    "np.quantile(A1, 0.25)"
   ]
  },
  {
   "cell_type": "code",
   "execution_count": 72,
   "id": "f0d5d8c4-6d4a-4ba7-99e2-aa381ef33d45",
   "metadata": {},
   "outputs": [
    {
     "data": {
      "text/plain": [
       "array([16., 17., 18.])"
      ]
     },
     "execution_count": 72,
     "metadata": {},
     "output_type": "execute_result"
    }
   ],
   "source": [
    "# 50th percentile of `A2`(axis=0)\n",
    "np.quantile(A2, 0.5, axis=0)"
   ]
  },
  {
   "cell_type": "code",
   "execution_count": 73,
   "id": "09345c3d-e656-4b91-95a3-110b891c2e20",
   "metadata": {},
   "outputs": [
    {
     "data": {
      "text/plain": [
       "array([12.5, 22.5])"
      ]
     },
     "execution_count": 73,
     "metadata": {},
     "output_type": "execute_result"
    }
   ],
   "source": [
    "# 75th percentile of `A2`(axis=1)\n",
    "np.quantile(A2, 0.75, axis=1)"
   ]
  },
  {
   "cell_type": "markdown",
   "id": "312ab232-6840-4d5c-afc9-7de79bc543a1",
   "metadata": {},
   "source": [
    "## 3.5.10 Correlation Coefficient"
   ]
  },
  {
   "cell_type": "code",
   "execution_count": 74,
   "id": "8f6e17eb-a1fc-4eae-9bd1-4aced8ba06d0",
   "metadata": {},
   "outputs": [
    {
     "name": "stdout",
     "output_type": "stream",
     "text": [
      "Return Pearson product-moment correlation coefficients.\n",
      "\n",
      "Please refer to the documentation for `cov` for more detail.  The\n",
      "relationship between the correlation coefficient matrix, `R`, and the\n",
      "covariance matrix, `C`, is\n",
      "\n",
      ".. math:: R_{ij} = \\frac{ C_{ij} } { \\sqrt{ C_{ii} C_{jj} } }\n",
      "\n",
      "The values of `R` are between -1 and 1, inclusive.\n",
      "\n",
      "Parameters\n",
      "----------\n",
      "x : array_like\n",
      "    A 1-D or 2-D array containing multiple variables and observations.\n",
      "    Each row of `x` represents a variable, and each column a single\n",
      "    observation of all those variables. Also see `rowvar` below.\n",
      "y : array_like, optional\n",
      "    An additional set of variables and observations. `y` has the same\n",
      "    shape as `x`.\n",
      "rowvar : bool, optional\n",
      "    If `rowvar` is True (default), then each row represents a\n",
      "    variable, with observations in the columns. Otherwise, the relationship\n",
      "    is transposed: each column represents a variable, while the rows\n",
      "    contain observations.\n",
      "bias : _NoValue, optional\n",
      "    Has no effect, do not use.\n",
      "\n",
      "    .. deprecated:: 1.10.0\n",
      "ddof : _NoValue, optional\n",
      "    Has no effect, do not use.\n",
      "\n",
      "    .. deprecated:: 1.10.0\n",
      "dtype : data-type, optional\n",
      "    Data-type of the result. By default, the return data-type will have\n",
      "    at least `numpy.float64` precision.\n",
      "\n",
      "    .. versionadded:: 1.20\n",
      "\n",
      "Returns\n",
      "-------\n",
      "R : ndarray\n",
      "    The correlation coefficient matrix of the variables.\n",
      "\n",
      "See Also\n",
      "--------\n",
      "cov : Covariance matrix\n",
      "\n",
      "Notes\n",
      "-----\n",
      "Due to floating point rounding the resulting array may not be Hermitian,\n",
      "the diagonal elements may not be 1, and the elements may not satisfy the\n",
      "inequality abs(a) <= 1. The real and imaginary parts are clipped to the\n",
      "interval [-1,  1] in an attempt to improve on that situation but is not\n",
      "much help in the complex case.\n",
      "\n",
      "This function accepts but discards arguments `bias` and `ddof`.  This is\n",
      "for backwards compatibility with previous versions of this function.  These\n",
      "arguments had no effect on the return values of the function and can be\n",
      "safely ignored in this and previous versions of numpy.\n",
      "\n",
      "Examples\n",
      "--------\n",
      ">>> import numpy as np\n",
      "\n",
      "In this example we generate two random arrays, ``xarr`` and ``yarr``, and\n",
      "compute the row-wise and column-wise Pearson correlation coefficients,\n",
      "``R``. Since ``rowvar`` is  true by  default, we first find the row-wise\n",
      "Pearson correlation coefficients between the variables of ``xarr``.\n",
      "\n",
      ">>> import numpy as np\n",
      ">>> rng = np.random.default_rng(seed=42)\n",
      ">>> xarr = rng.random((3, 3))\n",
      ">>> xarr\n",
      "array([[0.77395605, 0.43887844, 0.85859792],\n",
      "       [0.69736803, 0.09417735, 0.97562235],\n",
      "       [0.7611397 , 0.78606431, 0.12811363]])\n",
      ">>> R1 = np.corrcoef(xarr)\n",
      ">>> R1\n",
      "array([[ 1.        ,  0.99256089, -0.68080986],\n",
      "       [ 0.99256089,  1.        , -0.76492172],\n",
      "       [-0.68080986, -0.76492172,  1.        ]])\n",
      "\n",
      "If we add another set of variables and observations ``yarr``, we can\n",
      "compute the row-wise Pearson correlation coefficients between the\n",
      "variables in ``xarr`` and ``yarr``.\n",
      "\n",
      ">>> yarr = rng.random((3, 3))\n",
      ">>> yarr\n",
      "array([[0.45038594, 0.37079802, 0.92676499],\n",
      "       [0.64386512, 0.82276161, 0.4434142 ],\n",
      "       [0.22723872, 0.55458479, 0.06381726]])\n",
      ">>> R2 = np.corrcoef(xarr, yarr)\n",
      ">>> R2\n",
      "array([[ 1.        ,  0.99256089, -0.68080986,  0.75008178, -0.934284  ,\n",
      "        -0.99004057],\n",
      "       [ 0.99256089,  1.        , -0.76492172,  0.82502011, -0.97074098,\n",
      "        -0.99981569],\n",
      "       [-0.68080986, -0.76492172,  1.        , -0.99507202,  0.89721355,\n",
      "         0.77714685],\n",
      "       [ 0.75008178,  0.82502011, -0.99507202,  1.        , -0.93657855,\n",
      "        -0.83571711],\n",
      "       [-0.934284  , -0.97074098,  0.89721355, -0.93657855,  1.        ,\n",
      "         0.97517215],\n",
      "       [-0.99004057, -0.99981569,  0.77714685, -0.83571711,  0.97517215,\n",
      "         1.        ]])\n",
      "\n",
      "Finally if we use the option ``rowvar=False``, the columns are now\n",
      "being treated as the variables and we will find the column-wise Pearson\n",
      "correlation coefficients between variables in ``xarr`` and ``yarr``.\n",
      "\n",
      ">>> R3 = np.corrcoef(xarr, yarr, rowvar=False)\n",
      ">>> R3\n",
      "array([[ 1.        ,  0.77598074, -0.47458546, -0.75078643, -0.9665554 ,\n",
      "         0.22423734],\n",
      "       [ 0.77598074,  1.        , -0.92346708, -0.99923895, -0.58826587,\n",
      "        -0.44069024],\n",
      "       [-0.47458546, -0.92346708,  1.        ,  0.93773029,  0.23297648,\n",
      "         0.75137473],\n",
      "       [-0.75078643, -0.99923895,  0.93773029,  1.        ,  0.55627469,\n",
      "         0.47536961],\n",
      "       [-0.9665554 , -0.58826587,  0.23297648,  0.55627469,  1.        ,\n",
      "        -0.46666491],\n",
      "       [ 0.22423734, -0.44069024,  0.75137473,  0.47536961, -0.46666491,\n",
      "         1.        ]])\n"
     ]
    }
   ],
   "source": [
    "# documentation \n",
    "np.info(np.corrcoef)"
   ]
  },
  {
   "cell_type": "code",
   "execution_count": 75,
   "id": "51528070-4a1a-47e7-bbd9-d926e6e901a1",
   "metadata": {},
   "outputs": [
    {
     "data": {
      "text/plain": [
       "array([[1., 1.],\n",
       "       [1., 1.]])"
      ]
     },
     "execution_count": 75,
     "metadata": {},
     "output_type": "execute_result"
    }
   ],
   "source": [
    "# compute Correlation Coefficient\n",
    "np.corrcoef(A2)"
   ]
  },
  {
   "cell_type": "markdown",
   "id": "4ae01c65-4a55-4f92-8449-eeec5191578f",
   "metadata": {},
   "source": [
    "*Copyright &copy; 2024  [Md. Jubayer Hossain](https://hossainlab.github.io/) &  [Center for Bioinformatics Learning Advancement and Systematic Training (cBLAST)](https://www.cblast.du.ac.bd/). All rights reserved*"
   ]
  }
 ],
 "metadata": {
  "kernelspec": {
   "display_name": "Python 3 (ipykernel)",
   "language": "python",
   "name": "python3"
  },
  "language_info": {
   "codemirror_mode": {
    "name": "ipython",
    "version": 3
   },
   "file_extension": ".py",
   "mimetype": "text/x-python",
   "name": "python",
   "nbconvert_exporter": "python",
   "pygments_lexer": "ipython3",
   "version": "3.10.12"
  }
 },
 "nbformat": 4,
 "nbformat_minor": 5
}
