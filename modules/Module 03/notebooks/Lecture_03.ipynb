{
 "cells": [
  {
   "cell_type": "markdown",
   "id": "33c4f043-5f15-482d-99d5-0edf72581dad",
   "metadata": {},
   "source": [
    "# Module 03 - Scientific Computing with Numpy\n",
    "\n",
    "---\n",
    "\n",
    "#### <a href=\"linkedin.com/in/tasmim-rahman-adib-403074221\">Tasmim Rahman Adib</a>\n",
    "![numpylogo](../img/numpy.jpeg)\n",
    "\n",
    "# Lecture 3.3 - Array Manipulation\n",
    "## Agenda\n",
    "- Copy\n",
    "- View\n",
    "- Sorting\n",
    "- Flatten\n",
    "- Transpose\n",
    "- Reshape\n",
    "- Resize"
   ]
  },
  {
   "cell_type": "code",
   "execution_count": 1,
   "id": "d0400f62-7a24-4e5d-bd5b-a592ea70121e",
   "metadata": {},
   "outputs": [],
   "source": [
    "# import numpy \n",
    "import numpy as np"
   ]
  },
  {
   "cell_type": "markdown",
   "id": "67681413-da2c-42c0-ada0-4fc031f27ca2",
   "metadata": {},
   "source": [
    "![matrix](../img/Matris.png)"
   ]
  },
  {
   "cell_type": "markdown",
   "id": "a77e0c80-1d43-46f4-89dd-e75e95142fac",
   "metadata": {},
   "source": [
    "## 3.3.1 Copy\n",
    "- Copies array to new memory\n",
    "- **Syntax:** `np.copy(array)`"
   ]
  },
  {
   "cell_type": "code",
   "execution_count": 2,
   "id": "d6e277f5-8431-4483-8feb-964450c7def3",
   "metadata": {},
   "outputs": [
    {
     "name": "stdout",
     "output_type": "stream",
     "text": [
      "[0 1 2 3 4 5 6 7 8 9]\n"
     ]
    }
   ],
   "source": [
    "# create an array `A1`\n",
    "A1 = np.arange(10)\n",
    "print(A1)"
   ]
  },
  {
   "cell_type": "code",
   "execution_count": 3,
   "id": "5da2efa3-7598-47c0-9a29-ffe35170faa1",
   "metadata": {},
   "outputs": [
    {
     "name": "stdout",
     "output_type": "stream",
     "text": [
      "[0 1 2 3 4 5 6 7 8 9]\n"
     ]
    }
   ],
   "source": [
    "# copy `A1` into A2 \n",
    "A2 = np.copy(A1)\n",
    "print(A2)"
   ]
  },
  {
   "cell_type": "markdown",
   "id": "ff5df86b-b384-4c08-af71-6d8d7b47bedf",
   "metadata": {},
   "source": [
    "## 3.3.2 View\n",
    "- Creates view of array elements with type(dtype)\n",
    "- **Syntax:** `array.view(np.dtype)`"
   ]
  },
  {
   "cell_type": "code",
   "execution_count": 4,
   "id": "4dd6a311-9597-400f-b27c-12afb25a88c1",
   "metadata": {},
   "outputs": [
    {
     "name": "stdout",
     "output_type": "stream",
     "text": [
      "[0.0e+00 0.0e+00 0.0e+00 0.0e+00 6.0e-08 0.0e+00 0.0e+00 0.0e+00 1.2e-07\n",
      " 0.0e+00 0.0e+00 0.0e+00 1.8e-07 0.0e+00 0.0e+00 0.0e+00 2.4e-07 0.0e+00\n",
      " 0.0e+00 0.0e+00 3.0e-07 0.0e+00 0.0e+00 0.0e+00 3.6e-07 0.0e+00 0.0e+00\n",
      " 0.0e+00 4.2e-07 0.0e+00 0.0e+00 0.0e+00 4.8e-07 0.0e+00 0.0e+00 0.0e+00\n",
      " 5.4e-07 0.0e+00 0.0e+00 0.0e+00]\n"
     ]
    }
   ],
   "source": [
    "# view of array A2 \n",
    "A3 = A2.view(np.float16)\n",
    "print(A3)"
   ]
  },
  {
   "cell_type": "markdown",
   "id": "1e51d51e-2433-444a-b565-791b3fedc60e",
   "metadata": {},
   "source": [
    "## 3.3.3 Sorting\n",
    "- Returns a sorted copy of an array.\n",
    "- **Syntax:** `array.sort()`\n",
    "    - element-wise sorting(default) \n",
    "    - axis = 0; row\n",
    "    - axis = 1; column"
   ]
  },
  {
   "cell_type": "code",
   "execution_count": 5,
   "id": "1c0e2e47-377c-4b30-b5bf-5f85841ca98e",
   "metadata": {},
   "outputs": [
    {
     "name": "stdout",
     "output_type": "stream",
     "text": [
      "[ 9  2  3  1  5 10]\n"
     ]
    }
   ],
   "source": [
    "# Unsorted array\n",
    "A4 = np.array([9, 2, 3,1, 5, 10])\n",
    "print(A4) "
   ]
  },
  {
   "cell_type": "code",
   "execution_count": 6,
   "id": "1d86f7ba-c117-4a82-bd20-f3dacb0b2423",
   "metadata": {},
   "outputs": [
    {
     "name": "stdout",
     "output_type": "stream",
     "text": [
      "[ 1  2  3  5  9 10]\n"
     ]
    }
   ],
   "source": [
    "# Call sort function\n",
    "A4.sort()\n",
    "print(A4)"
   ]
  },
  {
   "cell_type": "code",
   "execution_count": 10,
   "id": "0d836c97-bde9-40e7-afa8-6bc24bb11c8a",
   "metadata": {},
   "outputs": [
    {
     "name": "stdout",
     "output_type": "stream",
     "text": [
      "[[4 1 3]\n",
      " [9 5 8]]\n"
     ]
    }
   ],
   "source": [
    "# Row and column unsorted\n",
    "A5 = np.array([[4, 1, 3], [9, 5, 8]])\n",
    "print(A5) "
   ]
  },
  {
   "cell_type": "markdown",
   "id": "033544d6-bec1-4e5b-b9b6-c90d3cfb0ad6",
   "metadata": {},
   "source": [
    "![matrix axis](../img/numpy-array-axis.png)"
   ]
  },
  {
   "cell_type": "code",
   "execution_count": 11,
   "id": "71ae384e-8693-48b9-bf99-b41c3f5cd564",
   "metadata": {},
   "outputs": [
    {
     "name": "stdout",
     "output_type": "stream",
     "text": [
      "[[4 1 3]\n",
      " [9 5 8]]\n"
     ]
    }
   ],
   "source": [
    "# Apply sort function on column axis=0\n",
    "A5.sort(axis=0)\n",
    "print(A5)"
   ]
  },
  {
   "cell_type": "code",
   "execution_count": 12,
   "id": "a2b98806-8fff-40c2-bc35-fb4d39ca7376",
   "metadata": {},
   "outputs": [
    {
     "name": "stdout",
     "output_type": "stream",
     "text": [
      "[[1 3 4]\n",
      " [5 8 9]]\n"
     ]
    }
   ],
   "source": [
    "# Apply sort function on row axis=1\n",
    "A5.sort(axis=1)\n",
    "print(A5)"
   ]
  },
  {
   "cell_type": "markdown",
   "id": "0b56ebf4-1749-4be5-9f19-371e93cf4a91",
   "metadata": {},
   "source": [
    "## 3.3.4 Flatten: Flattens 2D array to 1D array\n"
   ]
  },
  {
   "cell_type": "code",
   "execution_count": 14,
   "id": "d24ce0e7-82c5-48ca-a19a-095bee7c6193",
   "metadata": {},
   "outputs": [
    {
     "data": {
      "text/plain": [
       "array([[4, 1, 3],\n",
       "       [9, 5, 8]])"
      ]
     },
     "execution_count": 14,
     "metadata": {},
     "output_type": "execute_result"
    }
   ],
   "source": [
    "A6 = np.array([[4, 1, 3], [9, 5, 8]])\n",
    "A6 "
   ]
  },
  {
   "cell_type": "code",
   "execution_count": 15,
   "id": "aa5972ed-a634-4411-a28f-017417ba36f8",
   "metadata": {},
   "outputs": [
    {
     "data": {
      "text/plain": [
       "array([4, 1, 3, 9, 5, 8])"
      ]
     },
     "execution_count": 15,
     "metadata": {},
     "output_type": "execute_result"
    }
   ],
   "source": [
    "# 2D array\n",
    "A6 = np.array([[4, 1, 3], [9, 5, 8]])\n",
    "# 1D array \n",
    "A6.flatten()"
   ]
  },
  {
   "cell_type": "markdown",
   "id": "6cfeb291-f43d-4a44-9785-26292ecc8ee2",
   "metadata": {},
   "source": [
    "## 3.3.5 Transpose: Transposes array (rows become columns and vice versa)\n",
    "![transpose](../img/Matrix_Transpose.png)"
   ]
  },
  {
   "cell_type": "code",
   "execution_count": 16,
   "id": "e2de8ab0-65d0-4cd2-b319-ea245433e871",
   "metadata": {},
   "outputs": [
    {
     "data": {
      "text/plain": [
       "array([[4, 1, 3],\n",
       "       [9, 5, 8]])"
      ]
     },
     "execution_count": 16,
     "metadata": {},
     "output_type": "execute_result"
    }
   ],
   "source": [
    "A7 = np.array([[4, 1, 3], [9, 5, 8]])\n",
    "A7"
   ]
  },
  {
   "cell_type": "code",
   "execution_count": 17,
   "id": "7437d0a4-c712-4477-ba92-21b8c85b1e5d",
   "metadata": {},
   "outputs": [
    {
     "data": {
      "text/plain": [
       "array([[4, 9],\n",
       "       [1, 5],\n",
       "       [3, 8]])"
      ]
     },
     "execution_count": 17,
     "metadata": {},
     "output_type": "execute_result"
    }
   ],
   "source": [
    "# Transpose A7 \n",
    "A7.T"
   ]
  },
  {
   "cell_type": "markdown",
   "id": "77d0fb11-2cf6-4796-8c63-cc2a71e34d43",
   "metadata": {},
   "source": [
    "## 3.3.6 Reshape: Reshapes arr to `r` rows, `c` columns without changing data"
   ]
  },
  {
   "cell_type": "markdown",
   "id": "e6f6c75e-ed36-4954-aa82-c5792dd63b2e",
   "metadata": {},
   "source": [
    "![reshape](../img/reshape.png)"
   ]
  },
  {
   "cell_type": "code",
   "execution_count": 18,
   "id": "f23a7f9c-669d-47f3-95c0-70fcedbc0b28",
   "metadata": {},
   "outputs": [
    {
     "data": {
      "text/plain": [
       "array([[ 8,  9, 10],\n",
       "       [11, 12, 13]])"
      ]
     },
     "execution_count": 18,
     "metadata": {},
     "output_type": "execute_result"
    },
    {
     "name": "stdout",
     "output_type": "stream",
     "text": [
      "The history saving thread hit an unexpected error (OperationalError('attempt to write a readonly database')).History will not be written to the database.\n"
     ]
    }
   ],
   "source": [
    "A8 = np.array([(8,9,10),(11,12,13)])\n",
    "A8"
   ]
  },
  {
   "cell_type": "code",
   "execution_count": 19,
   "id": "2f716840-3645-4b74-81c1-9291abfa1993",
   "metadata": {},
   "outputs": [
    {
     "data": {
      "text/plain": [
       "array([[ 8,  9],\n",
       "       [10, 11],\n",
       "       [12, 13]])"
      ]
     },
     "execution_count": 19,
     "metadata": {},
     "output_type": "execute_result"
    }
   ],
   "source": [
    "# Reshape --> 3x2\n",
    "A8.reshape(3,2)"
   ]
  },
  {
   "cell_type": "code",
   "execution_count": 23,
   "id": "6c43d602-07e7-4838-a0e9-bb904e89bc33",
   "metadata": {},
   "outputs": [
    {
     "data": {
      "text/plain": [
       "array([[ 8,  9, 10, 11, 12, 13]])"
      ]
     },
     "execution_count": 23,
     "metadata": {},
     "output_type": "execute_result"
    }
   ],
   "source": [
    "A8.reshape(1,6)"
   ]
  },
  {
   "cell_type": "markdown",
   "id": "92db6ebf-70f3-4354-92f1-37b0ea7fe787",
   "metadata": {},
   "source": [
    "## 3.3.7 Resize:  Changes arr shape to `rxc` and fills new values with 0\n"
   ]
  },
  {
   "cell_type": "code",
   "execution_count": 24,
   "id": "b8ee643d-80ba-47d4-a2a4-0e1d05efb9dd",
   "metadata": {},
   "outputs": [
    {
     "data": {
      "text/plain": [
       "array([[ 8,  9, 10],\n",
       "       [11, 12, 13]])"
      ]
     },
     "execution_count": 24,
     "metadata": {},
     "output_type": "execute_result"
    }
   ],
   "source": [
    "A9 = np.array([(8,9,10),(11,12,13)])\n",
    "A9"
   ]
  },
  {
   "cell_type": "code",
   "execution_count": 25,
   "id": "db72ae3f-6086-4855-8f80-ab6abb041a4e",
   "metadata": {},
   "outputs": [
    {
     "data": {
      "text/plain": [
       "array([[ 8,  9],\n",
       "       [10, 11],\n",
       "       [12, 13]])"
      ]
     },
     "execution_count": 25,
     "metadata": {},
     "output_type": "execute_result"
    }
   ],
   "source": [
    "# Resize \n",
    "A9.resize(3, 2)\n",
    "A9"
   ]
  },
  {
   "cell_type": "code",
   "execution_count": 26,
   "id": "2d7ae5e5-dbfc-41b2-ad40-ce6a964ca98a",
   "metadata": {},
   "outputs": [
    {
     "name": "stdout",
     "output_type": "stream",
     "text": [
      "Return a new array with the specified shape.\n",
      "\n",
      "If the new array is larger than the original array, then the new\n",
      "array is filled with repeated copies of `a`.  Note that this behavior\n",
      "is different from a.resize(new_shape) which fills with zeros instead\n",
      "of repeated copies of `a`.\n",
      "\n",
      "Parameters\n",
      "----------\n",
      "a : array_like\n",
      "    Array to be resized.\n",
      "\n",
      "new_shape : int or tuple of int\n",
      "    Shape of resized array.\n",
      "\n",
      "Returns\n",
      "-------\n",
      "reshaped_array : ndarray\n",
      "    The new array is formed from the data in the old array, repeated\n",
      "    if necessary to fill out the required number of elements.  The\n",
      "    data are repeated iterating over the array in C-order.\n",
      "\n",
      "See Also\n",
      "--------\n",
      "numpy.reshape : Reshape an array without changing the total size.\n",
      "numpy.pad : Enlarge and pad an array.\n",
      "numpy.repeat : Repeat elements of an array.\n",
      "ndarray.resize : resize an array in-place.\n",
      "\n",
      "Notes\n",
      "-----\n",
      "When the total size of the array does not change `~numpy.reshape` should\n",
      "be used.  In most other cases either indexing (to reduce the size)\n",
      "or padding (to increase the size) may be a more appropriate solution.\n",
      "\n",
      "Warning: This functionality does **not** consider axes separately,\n",
      "i.e. it does not apply interpolation/extrapolation.\n",
      "It fills the return array with the required number of elements, iterating\n",
      "over `a` in C-order, disregarding axes (and cycling back from the start if\n",
      "the new shape is larger).  This functionality is therefore not suitable to\n",
      "resize images, or data where each axis represents a separate and distinct\n",
      "entity.\n",
      "\n",
      "Examples\n",
      "--------\n",
      ">>> import numpy as np\n",
      ">>> a = np.array([[0,1],[2,3]])\n",
      ">>> np.resize(a,(2,3))\n",
      "array([[0, 1, 2],\n",
      "       [3, 0, 1]])\n",
      ">>> np.resize(a,(1,4))\n",
      "array([[0, 1, 2, 3]])\n",
      ">>> np.resize(a,(2,4))\n",
      "array([[0, 1, 2, 3],\n",
      "       [0, 1, 2, 3]])\n"
     ]
    }
   ],
   "source": [
    "np.info(np.resize)"
   ]
  },
  {
   "cell_type": "markdown",
   "id": "2119c7bd-b088-4f67-9ca0-b05b0fa16c26",
   "metadata": {},
   "source": [
    "*Copyright &copy; 2024  [Md. Jubayer Hossain](https://hossainlab.github.io/) &  [Center for Bioinformatics Learning Advancement and Systematic Training (cBLAST)](https://www.cblast.du.ac.bd/). All rights reserved*"
   ]
  }
 ],
 "metadata": {
  "kernelspec": {
   "display_name": "Python 3 (ipykernel)",
   "language": "python",
   "name": "python3"
  },
  "language_info": {
   "codemirror_mode": {
    "name": "ipython",
    "version": 3
   },
   "file_extension": ".py",
   "mimetype": "text/x-python",
   "name": "python",
   "nbconvert_exporter": "python",
   "pygments_lexer": "ipython3",
   "version": "3.10.12"
  }
 },
 "nbformat": 4,
 "nbformat_minor": 5
}
