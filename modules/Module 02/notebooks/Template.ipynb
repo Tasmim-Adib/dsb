{
 "cells": [
  {
   "cell_type": "markdown",
   "id": "e749fa51-3d5c-4f59-96e6-d154d5dd59f2",
   "metadata": {},
   "source": [
    "# Module Insert Module Number - Insert Module Title\n",
    "---\n",
    "\n",
    "#### <a href=\"https://hossainlab.github.io\">Instructor Name</a>\n",
    "\n",
    "## Lecture 2.1 - Introduction to Python\n",
    "\n",
    "### Agenda \n",
    "- Topic 1 \n",
    "- Topic 2 \n",
    "- Topic 3"
   ]
  },
  {
   "cell_type": "code",
   "execution_count": null,
   "id": "64a184b9-f135-4e6c-b720-b4292a2b5c9a",
   "metadata": {},
   "outputs": [],
   "source": []
  },
  {
   "cell_type": "code",
   "execution_count": null,
   "id": "566f9e24-dc94-40f5-bc46-891f39bdfaac",
   "metadata": {},
   "outputs": [],
   "source": []
  },
  {
   "cell_type": "code",
   "execution_count": null,
   "id": "959e0d60-1977-4ef4-8f6e-1a39c596634b",
   "metadata": {},
   "outputs": [],
   "source": []
  },
  {
   "cell_type": "code",
   "execution_count": null,
   "id": "ec5a3ae7-27e0-4cff-8519-9f7af739e48f",
   "metadata": {},
   "outputs": [],
   "source": []
  },
  {
   "cell_type": "code",
   "execution_count": null,
   "id": "2658132a-b634-40d8-8362-badea8e525a8",
   "metadata": {},
   "outputs": [],
   "source": []
  },
  {
   "cell_type": "code",
   "execution_count": null,
   "id": "92409cb6-d232-4e6d-a2b8-fd4e0666c634",
   "metadata": {},
   "outputs": [],
   "source": []
  },
  {
   "cell_type": "markdown",
   "id": "441788ca-b189-4b6e-b6c2-3a2886b2a215",
   "metadata": {},
   "source": [
    "*Copyright &copy; 2024  [Md. Jubayer Hossain](https://hossainlab.github.io/) &  [Center for Bioinformatics Learning Advancement and Systematic Training (cBLAST)](https://www.cblast.du.ac.bd/). All rights reserved*"
   ]
  }
 ],
 "metadata": {
  "kernelspec": {
   "display_name": "Python 3 (ipykernel)",
   "language": "python",
   "name": "python3"
  },
  "language_info": {
   "codemirror_mode": {
    "name": "ipython",
    "version": 3
   },
   "file_extension": ".py",
   "mimetype": "text/x-python",
   "name": "python",
   "nbconvert_exporter": "python",
   "pygments_lexer": "ipython3",
   "version": "3.11.7"
  }
 },
 "nbformat": 4,
 "nbformat_minor": 5
}
